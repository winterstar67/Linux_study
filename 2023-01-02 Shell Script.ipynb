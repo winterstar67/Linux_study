{
 "cells": [
  {
   "cell_type": "markdown",
   "id": "6eeb6c02-ada6-421e-b98a-6f6a30fe0752",
   "metadata": {
    "tags": []
   },
   "source": [
    "# Linux 공부 (Shell Script)"
   ]
  },
  {
   "cell_type": "markdown",
   "id": "822cd4c7-df8b-4d65-9140-ba8b50a5e520",
   "metadata": {},
   "source": [
    "# 1월 02일"
   ]
  },
  {
   "cell_type": "markdown",
   "id": "84e4273a-1988-48f7-91e8-1ba76699751d",
   "metadata": {},
   "source": [
    "공부 자료 출처: https://www.youtube.com/watch?v=cXnVygkAg4I&list=PLuHgQVnccGMBT57a9dvEtd6OuWpugF9SH&index=21"
   ]
  },
  {
   "cell_type": "markdown",
   "id": "eb59a642-3dae-4a32-8abf-2b4da9d63ee2",
   "metadata": {
    "tags": []
   },
   "source": [
    "#### `-` Shell Script"
   ]
  },
  {
   "cell_type": "markdown",
   "id": "73ee4ec9-368f-412e-8bc9-1692e826c5eb",
   "metadata": {},
   "source": [
    "Script는 대본, 각본 이라는 뜻을 가지고 있다.  \n",
    "즉, 배우들이 어떤 순서로 움직여야 될지에 대한 그 흐름이 적혀있는 스크립트이다.  \n",
    "이전 시간에 배웠던 쉘이라는 것을 이용해서 우리가 어떤 명령을 실행시킬 수 있다. 라는 개념적인 것을 알아봤음.  \n",
    "\n",
    "그 명령, 우리가 하고자 하는 일을 위해 필요한 명령이 하나가 아니라 아주 많은 경우에는, 여러 개의 명령을 순차적으로 실행하는 것을 통해, 하나의 업무가 이루어지는 경우가 많다는 경우이다.  \n",
    "이런 경우에, 우리가 순차적으로 실행되어야 하는 `명령의 순서(스크립트)`를 어딘가에 적어놓고, 나중에 재사용하면 좋을 것이다.\n",
    "- 예: 하루에도 수십 번씩 실행되는 어떤 명령어들의 세트가 있고, 1년에 한 번씩 사용하는 복잡한 코드가 있는데, 만약 하나라도 빠뜨리면 심각한 문제를 초래할 수 있는 복잡한 명령들, 이런 것들은 우리가 필요할 때마다 일일이 타이핑하는게 아닌, 어디에 저장해놨다가 그걸 불러와서 사용하는 식으로 하면 편할 것이다.\n",
    "\n",
    "이번 시간에는 우리가 사용하는 명령들을 어딘가에 적어두는 방법을 알아보고, 그것을 컴퓨터가 그대로 실행하게 하는 방법도 볼 것이다.\n",
    "- 쉘 스크립트 자체는 그거 자체로 새로운 분야, 프로그래밍 언어 수업이다. 여기는 리눅스를 보는 것이여서 쉘 스크립트가 뭐다. 이것으로 작업 자동화를 할 수 있다. 정도로만 보여준다.\n",
    "\n",
    "\n",
    "실제 예시를 보자, 여기서는 script라는 디렉토리에 확장자가 log로 끝나는 파일들을 정기적으로 bak라는 폴더에다가 백업을 하고싶다고 하자.  \n",
    "먼저 shell script없이 일일이 적어보자.\n",
    "- 새로운 script라는 디렉토리를 만들기 위해 `mkdir script`를 하고 `cd script/`를 해서 script 디렉토리에 들어간다.\n",
    "- durldp `touch`명령어를 이용해서 a.log, b.log, c.log 를 만들자. 즉, `touch a.log b.log c.log` 를 입력한다.\n",
    "- 백업을 위한 디렉토리를 만들기 위해 `mkdir bak`를 한다.\n",
    "- 그리고 파일을 백업 하려면 copy를 이용해서 a.log, b.log, c.log를 bak에 저장할 것이다. 이를 위해 `cp *.log bak`라고 한다면 .log 확장자인 모든 파일을 bak에 저장하겠다. 라는 의미이다.\n",
    "    - **여기서 a.log, b.log, c.log는 .log라는 부분이 모두 같다. 이 부분을 한번에 처리하기 위해서 `cp *.log`라고 하면 확장자가 모두 .log인 파일들을 가르키는 것이다.**\n",
    "- ls -l bak라고 하면 bak라는 디렉토리에 a.log, b.log, c.log가 모두 있는 것을 확인할 수 있다.\n",
    "\n",
    "이 상황에서 다시 정기적인 백업을 위해 나중에 한 번더 위의 과정을 한다면?\n",
    "- `mkdir bak`를 하면 이미 존재하는 directory라고 하여 에러가 나올것이다. 그래서 있는지 없는지 체크를 해서 없다면 만들고, 있다면 mkdir bak 없이 log파일 복사만 실행하면 된다.\n",
    "\n"
   ]
  },
  {
   "cell_type": "markdown",
   "id": "5c66ec48-962a-4f21-9cb3-47e062ae8275",
   "metadata": {},
   "source": []
  },
  {
   "cell_type": "markdown",
   "id": "ae1a751e-2236-473d-bf73-c022f0ed054b",
   "metadata": {},
   "source": []
  }
 ],
 "metadata": {
  "kernelspec": {
   "display_name": "Python 3 (ipykernel)",
   "language": "python",
   "name": "python3"
  },
  "language_info": {
   "codemirror_mode": {
    "name": "ipython",
    "version": 3
   },
   "file_extension": ".py",
   "mimetype": "text/x-python",
   "name": "python",
   "nbconvert_exporter": "python",
   "pygments_lexer": "ipython3",
   "version": "3.9.12"
  }
 },
 "nbformat": 4,
 "nbformat_minor": 5
}
