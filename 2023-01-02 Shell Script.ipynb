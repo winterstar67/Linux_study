{
 "cells": [
  {
   "cell_type": "markdown",
   "id": "6eeb6c02-ada6-421e-b98a-6f6a30fe0752",
   "metadata": {
    "tags": []
   },
   "source": [
    "# Linux 공부 (Shell Script)"
   ]
  },
  {
   "cell_type": "markdown",
   "id": "822cd4c7-df8b-4d65-9140-ba8b50a5e520",
   "metadata": {},
   "source": [
    "# 1월 02일"
   ]
  },
  {
   "cell_type": "markdown",
   "id": "84e4273a-1988-48f7-91e8-1ba76699751d",
   "metadata": {},
   "source": [
    "공부 자료 출처: https://www.youtube.com/watch?v=cXnVygkAg4I&list=PLuHgQVnccGMBT57a9dvEtd6OuWpugF9SH&index=21"
   ]
  },
  {
   "cell_type": "markdown",
   "id": "eb59a642-3dae-4a32-8abf-2b4da9d63ee2",
   "metadata": {
    "tags": []
   },
   "source": [
    "#### `-` Shell Script"
   ]
  },
  {
   "cell_type": "markdown",
   "id": "73ee4ec9-368f-412e-8bc9-1692e826c5eb",
   "metadata": {},
   "source": [
    "Script는 대본, 각본 이라는 뜻을 가지고 있다.  \n",
    "즉, 배우들이 어떤 순서로 움직여야 될지에 대한 그 흐름이 적혀있는 스크립트이다.  \n",
    "이전 시간에 배웠던 쉘이라는 것을 이용해서 우리가 어떤 명령을 실행시킬 수 있다. 라는 개념적인 것을 알아봤음.  \n",
    "\n",
    "그 명령, 우리가 하고자 하는 일을 위해 필요한 명령이 하나가 아니라 아주 많은 경우에는, 여러 개의 명령을 순차적으로 실행하는 것을 통해, 하나의 업무가 이루어지는 경우가 많다는 경우이다.  \n",
    "이런 경우에, 우리가 순차적으로 실행되어야 하는 `명령의 순서(스크립트)`를 어딘가에 적어놓고, 나중에 재사용하면 좋을 것이다.\n",
    "- 예: 하루에도 수십 번씩 실행되는 어떤 명령어들의 세트가 있고, 1년에 한 번씩 사용하는 복잡한 코드가 있는데, 만약 하나라도 빠뜨리면 심각한 문제를 초래할 수 있는 복잡한 명령들, 이런 것들은 우리가 필요할 때마다 일일이 타이핑하는게 아닌, 어디에 저장해놨다가 그걸 불러와서 사용하는 식으로 하면 편할 것이다.\n",
    "\n",
    "이번 시간에는 우리가 사용하는 명령들을 어딘가에 적어두는 방법을 알아보고, 그것을 컴퓨터가 그대로 실행하게 하는 방법도 볼 것이다.\n",
    "- 쉘 스크립트 자체는 그거 자체로 새로운 분야, 프로그래밍 언어 수업이다. 여기는 리눅스를 보는 것이여서 쉘 스크립트가 뭐다. 이것으로 작업 자동화를 할 수 있다. 정도로만 보여준다.\n",
    "\n",
    "\n",
    "실제 예시를 보자, 여기서는 script라는 디렉토리에 확장자가 log로 끝나는 파일들을 정기적으로 bak라는 폴더에다가 백업을 하고싶다고 하자.  \n",
    "먼저 shell script없이 일일이 적어보자.\n",
    "- 새로운 script라는 디렉토리를 만들기 위해 `mkdir script`를 하고 `cd script/`를 해서 script 디렉토리에 들어간다.\n",
    "- durldp `touch`명령어를 이용해서 a.log, b.log, c.log 를 만들자. 즉, `touch a.log b.log c.log` 를 입력한다.\n",
    "- 백업을 위한 디렉토리를 만들기 위해 `mkdir bak`를 한다.\n",
    "- 그리고 파일을 백업 하려면 copy를 이용해서 a.log, b.log, c.log를 bak에 저장할 것이다. 이를 위해 `cp *.log bak`라고 한다면 .log 확장자인 모든 파일을 bak에 저장하겠다. 라는 의미이다.\n",
    "    - **여기서 a.log, b.log, c.log는 .log라는 부분이 모두 같다. 이 부분을 한번에 처리하기 위해서 `cp *.log`라고 하면 확장자가 모두 .log인 파일들을 가르키는 것이다.**\n",
    "- ls -l bak라고 하면 bak라는 디렉토리에 a.log, b.log, c.log가 모두 있는 것을 확인할 수 있다.\n",
    "\n",
    "이 상황에서 다시 정기적인 백업을 위해 나중에 한 번더 위의 과정을 한다면?\n",
    "- `mkdir bak`를 하면 이미 존재하는 directory라고 하여 에러가 나올것이다. 그래서 있는지 없는지 체크를 해서 없다면 만들고, 있다면 mkdir bak 없이 log파일 복사만 실행하면 된다.\n",
    "\n"
   ]
  },
  {
   "cell_type": "markdown",
   "id": "5c66ec48-962a-4f21-9cb3-47e062ae8275",
   "metadata": {},
   "source": []
  },
  {
   "cell_type": "markdown",
   "id": "b93c7ca8-79b6-4617-b160-271136b76836",
   "metadata": {
    "tags": []
   },
   "source": [
    "#### `-` Shell Script example (Shell script 예시)\n"
   ]
  },
  {
   "cell_type": "markdown",
   "id": "d159de2e-3175-41db-a9a1-6077f8a65454",
   "metadata": {},
   "source": [
    "우리가 실행하고 있는 Shell을 확인하자.\n",
    "- `echo $0` 를 통해 확인 가능\n",
    "\n",
    "이 bash라는 Shell은 이것도 일종의 프로그램이다.\n",
    "- Shell이라는 카테고리에 해당하는 프로그램으로 보면 된다.\n",
    "\n",
    "이 Shell이라는 프로그램을 이용해서 커널에게 명령을 내리는 것이다.\n",
    "\n",
    "그럼, 이 bash라는 프로그램은 어디에 있는 것일까?  \n",
    "`ls /bin`이라고 해보자.\n",
    "- 여기서 bin은 root 디렉토리 밑에있는 bin이라는 디렉토리를 의미함.\n",
    "- 이 디렉토리는 기본적으로 유닉스 계열에 탑재되어있는, 기본 프로그램들이 위치하는 dir이다. \n",
    "\n",
    "여기를 보면 bash라는 프로그램도 있고, zsh이라는 것도 있고, echo, mv, rm 등등 우리가 여태까지 보았던 명령어들이 있다.\n",
    "\n",
    "이제 여기서 `현재 디렉토리에 bak라는 dir가 없다면 만들고 있다면 만들지 마라, 그리고 현재 dir의 모든 파일 중에 .log로 끝나는 파일을 bak라는 dir로 복사한다.` 라는 내용의 bash script를 작성해보자.  \n",
    "**여기서는 문법 수업이 아니여서 그냥 코드를 보기만 해도 된다 하심.**\n",
    "1. 먼저 `nano`를 통해 `backup` 이름의 프로그램을 만들어보자.\n",
    "2. 이제 편집기 안으로 들어왔으면, 첫 번째 줄에 `#!/bin/bash`라고 적자\n",
    "    - 이것은 이 backup이라고 하는 프로그램을 실행시켰을 때, 운영체제는 이 첫  번쨰 줄에 있는 #!이라는 기호를 본다.  \n",
    "    그리고 그 뒤에 적혀있는 /bin/bash를 보고 운영체제가 뭘 알수 있냐면, 이 밑에 작성되는 코드들이 바로 bin 밑의 bash라는 프로그램을 통해서 해석되어야한다는 사실을 알 수 있다. (그냥 약속)\n",
    "\n",
    "3. if ! [ -d bac ]; then (현재 디렉토리에 bak라는 dir이 존재하지 않으면 이라는 뜻.)  \n",
    "        mkidr bak (디렉토리가 없다면 만든다.)\n",
    "fi (if를 거꾸로해서 조건문의 종료를 나타냄)\n",
    "cp *.log bak (.log로 끝나는 모든 파일을 bak라는 디렉토리 안으로 저장한다. 라는 명령)\n",
    "\n",
    "이제 Ctrl+X를 누르고 YES를 해서 빠져나온다.  \n",
    "그리고 ls -l을 하면 backup이라는 파일이 생성되어있다.  \n",
    "이 backup이라는 파일을 생성시키기 위해, ./backup을 한 번 해보면, Permission denied가 나온다.\n",
    "- 이러한 에러가 나온 이유는, 이 backup이라는 프로그램을 누군가가 실행시킬 수 있는 권한이 없기 때문이다.\n",
    "\n",
    "우리는 이 backup이라는 파일이 실행 가능한 파일임을 리눅스에게 알려줘야함.\n",
    "- `chmod +x backup`을 하고 ls -l를 하면 된다 하심.\n",
    "- `궁금한 점: sudo는 사용 못하는건가?`\n",
    "\n",
    "이렇게 하고 ls -l 으로 확인할 때, chmod +x backup 전에는 backup에 색이 없고 -rw-rw-r--이였는데, chmod +x backup을 하니까 backup이 초록색으로 바뀌고 -rwxrwxr-x로 되어있음. 여기서 x가 추가되었는데, 이 x는 excutable(실행 가능한)이라는 뜻을 가진다고 한다.\n",
    "\n",
    "방금 `chmod +x backup`은 backup이라는 파일에 x(실행 가능한 모드)를 추가해서 change 시킨 것이다. 정도로 보면 된다."
   ]
  },
  {
   "cell_type": "markdown",
   "id": "a75e0160-7d53-41cb-aadb-dcd75049e4b7",
   "metadata": {},
   "source": []
  },
  {
   "cell_type": "markdown",
   "id": "cc1a89de-e317-49c4-b388-445dc94455b4",
   "metadata": {},
   "source": [
    "자, 그럼 backup이라는 파일을 실행시켜서 결과를 보기 위해, 먼저 rm -rf bak을 해서 bak을 지운다음에 ./backup을 입력해보자.  \n",
    "그 후에 ls -l을 하면, bak 폴더가 생성되었음을 알 수 있고, bak이라는 디렉토리 안에는 a.log, b.log, c.log. 이렇게 세 개의 확장자가 log 파일이 저장되어 있음을 볼 수 있다."
   ]
  },
  {
   "cell_type": "markdown",
   "id": "91475c07-4b92-4808-beed-00fb82637554",
   "metadata": {},
   "source": []
  },
  {
   "cell_type": "markdown",
   "id": "7da5ebd8-6e2d-402c-8de0-0c68173acc5e",
   "metadata": {},
   "source": [
    "쉘에서 실행되는 Script.  \n",
    "어떤 쉘 명령어들이 실행되어야할 순서, 방법 들을  우리가 각본을 짜서 저장해 놓은 곳이 web script라고 할 수 있음"
   ]
  },
  {
   "cell_type": "markdown",
   "id": "57f41e78-c1f8-4e60-bd3d-adf450e98556",
   "metadata": {},
   "source": []
  },
  {
   "cell_type": "markdown",
   "id": "28c5c3c0-87ce-48ed-a3d8-a7cdd2f0b9db",
   "metadata": {},
   "source": []
  }
 ],
 "metadata": {
  "kernelspec": {
   "display_name": "Python 3 (ipykernel)",
   "language": "python",
   "name": "python3"
  },
  "language_info": {
   "codemirror_mode": {
    "name": "ipython",
    "version": 3
   },
   "file_extension": ".py",
   "mimetype": "text/x-python",
   "name": "python",
   "nbconvert_exporter": "python",
   "pygments_lexer": "ipython3",
   "version": "3.9.12"
  }
 },
 "nbformat": 4,
 "nbformat_minor": 5
}
