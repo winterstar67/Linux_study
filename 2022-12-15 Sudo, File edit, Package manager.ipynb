{
 "cells": [
  {
   "cell_type": "markdown",
   "id": "6eeb6c02-ada6-421e-b98a-6f6a30fe0752",
   "metadata": {
    "tags": []
   },
   "source": [
    "# Linux 공부 (On going)"
   ]
  },
  {
   "cell_type": "markdown",
   "id": "822cd4c7-df8b-4d65-9140-ba8b50a5e520",
   "metadata": {},
   "source": [
    "# 12월 25일"
   ]
  },
  {
   "cell_type": "markdown",
   "id": "a7dda72f-a887-4d10-a232-a01e9a4bc9d7",
   "metadata": {},
   "source": [
    "#### `-` Sudo (super user do)  \n",
    "\n",
    "Sudo를 보기전에 잠깐 background를 보자.\n",
    "\n",
    "유닉스 계열의 운영체제들은 중요한 특징 중 하나가 `다중 사용자 시스템`이라는 것이다.  \n",
    "옛날엔 컴퓨터가 굉장히 비쌌기 때문에, 하나의 컴퓨터를 여러 사람들이 같이 나눠서섰다. (지금도 가능하다.)  \n",
    "하나의 운영체제를 여러 사람들이 쓰다보니까, 고려해야할 사항들이 있다. 예를 들어, `(a 라는 사람이 만든 파일을 b라는 사람이 마음대로 열고쓰고 하는 경우)` 그래서 permission(권한) 이라는 것을 포함해서, 각각 사용자들마다 할 수 있는일과 할 수 없는 일을 정해놓았다.  \n",
    "시스템이라는 것은 그 시스템을 관리하기도 해야하고, 사용자와 사용자 사이의 어떤 join(?)도 해야하고, 이렇게 할 수 있는 일이 많은 권한이 필요하다. 이러한 강력한 권한을 가진 것이 super user, 또는 root user 라고 하는 존재가 있는 것이다.  \n",
    "`그런데`, super user(root user)로 평소에 활동하면 심각한 실수를 할 수가 있다.\n",
    "- 실수의 예: root directory에 있는 모든 파일을 묻지도 따지지도 말고 삭제하라는 명령어와 같은 경우.\n",
    "그래서, 평소에는 일반 사용자로 접속해서 하다가, super user의 권한이 필요할 때, `sudo`를 쓴다."
   ]
  },
  {
   "cell_type": "markdown",
   "id": "ab453165-d8d1-408a-8d84-d4c91e947050",
   "metadata": {},
   "source": [
    "`apt-get install git`을 입력하면 git을 설치하라는 명령어인데, 이렇게 했더니 Permission denied가 나왔다.\n",
    "- **권한이 없으면 이러한 명령어를 실행할 수 없다.**라는 의미\n",
    "\n",
    "그런데 여기서 `sudo apt-get install`을 입력하면, 이는 예외적으로 이 명령은 super user의 권한으로 실행한다(do). 라는 의미로 git을 설치할 수 있다.\n",
    "\n",
    "임시적으로 실행하는 명령어만 super user의 권한으로 실행할 수 있도록 하는 것이 sudo이다."
   ]
  },
  {
   "cell_type": "markdown",
   "id": "5868a6a2-8d84-49b2-adf2-8a07422e7d4e",
   "metadata": {},
   "source": [
    "`-` 요즘은 개인이 한 컴퓨터를 사용하기에 다중 사용자 시스템과 같은 개념이 와닿지 않을 수 있고, 이는 매우 복잡한 개념이라고 하셨다. 일단은 여기까지 알아둠."
   ]
  },
  {
   "cell_type": "markdown",
   "id": "ba5a14ba-8176-4fe0-a3f2-3f67433fa576",
   "metadata": {},
   "source": []
  },
  {
   "cell_type": "markdown",
   "id": "96f43da9-75be-4216-9920-294c82fee8bb",
   "metadata": {},
   "source": [
    "#### `-` 파일을 만들고 편집하기"
   ]
  },
  {
   "cell_type": "markdown",
   "id": "b8c8771e-3be8-4c51-b810-d4f6ccee81c3",
   "metadata": {},
   "source": [
    "운영체제에서,  \n",
    "파일이라는 것은 정보를 저장하는 가장 기본적인 수단 (저장소) 라고 할 수 있다.  \n",
    "디렉토리라는 것은 그 파일을 잘 정리 정도한기 위한 수납 공간을 뜻한다고 볼 수 있다.  \n",
    "여태까지는 파일, 디렉토리를 어떻게 관리하는지에 대해서 얘기했었고, 여기서는 파일에 정보를 저장하는 방법을 본다."
   ]
  },
  {
   "cell_type": "markdown",
   "id": "422228c4-c0aa-473b-b926-2e556e004409",
   "metadata": {},
   "source": [
    "보통 우리가 정보를 저장하려면 윈도우나 맥과 같은 컴퓨터에 메모장같은 편집기가 있어서 거기에 적음.  \n",
    "지금 우리가 다루는 명령어 기반의 시스템에서도 윈도우와는 형태는 조금 다르지만 이러한 편집기가 있다.  \n",
    "- 대표적인 편집기로는 나노(Nano), 브이아이(Vi)라는 것이 있다.\n",
    "    - 나노는 처음 리눅스를 쓰시는 분들께 추천하고, 브이아이는 중/고급자 분들이 많이 사용한다고 하신다.\n",
    "    - 여기서는 `Nano`를 사용한다.\n",
    "    \n",
    "Nano와 Vi가 중요한 이유가, 이 둘은 대부분의 리눅스, 유닉스 계열에 들어가 있기 때문에 사용법을 알고있으면, 어디서든지 사용할 수 있다. 라는 장점이 있다."
   ]
  },
  {
   "cell_type": "markdown",
   "id": "f3d758ca-8343-4266-90fb-2aea0c1c696b",
   "metadata": {},
   "source": [
    "`-` 나노 사용법:  \n",
    "먼저 nano를 입력하고 엔터를 누르면 텍스트 파일을 편집할 수 있는 편집기 화면으로 넘어가게 된다. (나노 화면 추가 **)  \n",
    "만약 여기서 html 파일을 만든다. 라고 하면, 여기다가 \n",
    "\n",
    "<html>\n",
    "    \n",
    "</html>  \n",
    "을 해서 html의 기본적인 골격을 먼저 만들어볼 수 있다.\n",
    "\n",
    "일단 여기서 이 파일을 저장하고싶다면, 편집기 밑에 설명들이 있는데, 여기서 Write Out부분이다.  \n",
    "이것은 ^O라는 기호로 되어있는데 여기서 ^는 Ctrl 키를 의미한다. 즉, ^O는 Ctrl+O를 입력해서 쓰기를 할 수 있다는 것이다.  \n",
    "이렇게 하면 File Name to Write: 라고 나오는데, 여기에 파일 이름을 적으면 된다. 여기선 hello.html로 저장하였다.\n",
    "\n",
    "이렇게 한다고 바로 다시 파일 편집기에서 나오는 것이 아니라, 밑의 메뉴가 바뀌게 된다. 파일 저장 및 파일 이름 설정을 취소할지 어떻게 할지를 결정해야하는 부분인데, 여기서 엔터키를 누르면, Wrote 3 Lines이 나온다. 이는 우리가 작성한 파일 내용이 방금 hello.html이란 파일에 저장되었다는 뜻이다.\n",
    "\n",
    "잘 저장되었는지 확인하기 위해 프로그램을 끄려고 한다. 프로그램을 끌 때도 아래 커맨드 목록을 참고할 수 있다.\n",
    "\n",
    "우리가 만든 것을 확인하기 위해 ls -l 명령어를 사용하면 된다."
   ]
  },
  {
   "cell_type": "markdown",
   "id": "c01f2b17-cf77-4e99-98bd-9486645f8360",
   "metadata": {},
   "source": [
    "`-` 우리가 가지고 있는 파일을 다시 편집하고 싶은 경우:  \n",
    "우리가 위에서 만든 hello.html을 편집하고 싶다 하면 nano hello.html을 입력하면 된다.  \n",
    "여기서 텍스트에 color가 입혀질 수 있는데, 이는 우리가 파일을 html이란 확장자로 저장을 해서, nano라는 에디터는 우리가 편집하고 있는 파일이 html이라는 컴퓨터 언어의 파일이라는 것을 알아서, 문법에 맞게 색깔을 입혀준 것이다.  \n",
    "\n",
    "편집기에서 텍스트 자르고 붙이기: Cut Text와 Uncut Text의 커맨드를 사용하면 된다.  \n",
    "파일 내부에서 검색을 하고싶다면 Where Is에 대한 커맨드를 눌러서 검색을 하면 된다.\n",
    "- 편집기에서 여러 기능들 예시 설명: https://youtu.be/JIQXgPEX5Bs?list=PLuHgQVnccGMBT57a9dvEtd6OuWpugF9SH&t=354"
   ]
  },
  {
   "cell_type": "markdown",
   "id": "9aec740b-e37c-4b1c-ae27-72395e15ae77",
   "metadata": {},
   "source": []
  },
  {
   "cell_type": "markdown",
   "id": "e3eaccac-f021-4277-94eb-dd29de7ccd0f",
   "metadata": {},
   "source": [
    "#### Package manager\n",
    "\n",
    "`패키지`: 우리가 흔히 알고있는 프로그램, 애플케이션 또는 앱 이라고 부르는 것들이 패키지라고 할 수 있다.  그리고 우리가 컴퓨터를 사용한다. 라고 하는 것은 이러한 패키지들이 갖고 있는 기능들을 가지고 어떤 처리를 하는 것이 컴퓨터를 사용하는 행위라고 볼 수 있다.  \n",
    "\n",
    "리눅스에도 패키지들이 있다.  \n",
    "기본적으로 탑재되어 있는 패키지로는 ls, mkdir들이 있다. 이들은 프로그램이다.  \n",
    "기본적으로 내장되어있지 않고 설치해서 사용해야되는 프로그램들을 써야하는 경우는 우리가 직접 프로그램의 소스코드를 다운받고, 컴파일하고 굉장히 어렵고 복잡하다.\n",
    "\n",
    "\n",
    "오늘날의 리눅스, 유닉스는 패키지 매니저를 기본적으로 제공한다. 이 패키지 매니저는 모바일의 앱스토어와 거의 비슷한 역할을 한다.  \n",
    "- 앱스토어가 하는 역할은, 인터넷으로 필요한 프로그램을 찾을 수 있고, 다운로드 받아서 설치도 해주고, 삭제도 해주는 여러가지 관리 작업들을 해준다.\n",
    "\n",
    "커맨드 라인에서 명령어를 통해 컴퓨터를 제어하는 세계에서도 앱스토어에 해당하는 소프트웨어가 있는데, 이러한 소프트웨어들을 `패키지 매니저`라고 한다. "
   ]
  },
  {
   "cell_type": "markdown",
   "id": "cd71cc65-881d-48ba-9a2c-3966bb559819",
   "metadata": {},
   "source": [
    "`-` apt:  \n",
    "일단 리눅스에서 대표적인 패키지 매니저로는 apt라는 것과 yum이라는 것이 있다. `(여기서는 apt를 사용한다.)`"
   ]
  },
  {
   "cell_type": "markdown",
   "id": "a5be3412-bec7-46c8-b17b-468d819bc2e3",
   "metadata": {},
   "source": [
    "apt라는 패키지 매니저를 사용하기 위해 먼저 해야하는 것은, 패키지 매니저를 통해 설치할 수 있는 소프트웨어의 목록을 최신상태로 갱신해야한다.  \n",
    "이를 위해서는 `apt-get update`라고 해주면 된다.\n",
    "- **그런데, 이렇게 입력하면 permission denied가 나와서, `sudo apt-get update`를 입력해서 실행을 시킬 수 있다.**\n",
    "\n",
    "이렇게 하면, 인터넷을 통해서 apt라고 하는 패키지 매니저의 서버에 접속해서, 최신 상태의 소프트웨어 목록을 다운로드 받아놓는다.\n",
    "- **소프트웨어를 다운받는 것이 아니라 소프트웨어의 목록을 다운받는 것이다.**\n",
    "\n",
    "이제 이렇게 목록을 다운받고 나면, 검색을 한다.  \n",
    "이번엔 `sudo apt-cache search` 라는 커맨드를 바탕으로, 예를들어 htop이라는 프로그램을 설치하고싶다. 라고 한다면 `sudo apt-cache search htop`이라고 입력한다.  \n",
    "그러면 htop이라는 텍스트와 관련되어 있는 패키지들의 목록을 보여준다.\n",
    "- 이렇게 보여주는 목록중에서 우리가 설치하고 싶은 것은 htop이라는 프로그램이다.\n",
    "\n",
    "이제 다시 `sudo apt-get`으로 htop관련 뭔가를 하고싶은데, 일단 뭔지 모르곘으면 그냥 `sudo apt-get`만 입력하고 엔터를 눌러본다.  \n",
    "그러면, apt-get의 사용법이 나온다.  \n",
    "\n",
    "여기서 우리가 하고싶은 것은 패키지를 `install` 하는 것이다.  \n",
    "그래서 `sudo apt-get install htop`을 입력하고 엔터를 누르면, 프로그램을 다운로드 받아서 설치를 진행하게 된다.\n",
    "\n",
    "이렇게 하면, htop은 기본적으로 우리 컴퓨터에 설치가 안되어있던 것인데, 이제 `htop`을 입력하고 엔터를 누르면 프로그램이 실행된다. \n",
    "\n",
    "\n",
    "`-` 설치되어있는 프로그램(여기선 예시로 htop)을 업데이트 하고싶은 경우:  \n",
    "`sudo apt-get upgrad htop`를 입력하면, htop라는 프로그램에 대해서 업그레이드를 진행하게 된다.\n",
    "\n",
    "`-` upgrad 관련:  \n",
    "**만약 `apt-get`을 통해서 설치한 모든 프로그램에 대해서 최신버전인지 확인하고 업그레이드를 진행하고 싶다면, `sudo apt-get upgrad` 까지만 입력하고 엔터를 누르면 된다.**\n",
    "- 이렇게 업그레이드를 쉽게할 수 있는 기능도 패키지 매니저가 제공하는 중요한 기능이다."
   ]
  },
  {
   "cell_type": "markdown",
   "id": "4889ec0f-95a8-4f56-8634-bdb851ce55a9",
   "metadata": {},
   "source": []
  },
  {
   "cell_type": "markdown",
   "id": "17d4c79d-6bfe-4bf6-8806-76f9f683b449",
   "metadata": {},
   "source": [
    "`번외`:  \n",
    "htop 이란?  \n",
    "기본적으로 리눅스에는 top이라는 프로그램이 설치되어있다. 이 top이라는 것을 실행시켜보면, 이것은 윈도우로 치면 작업관리자 같은 것이다. 즉, `현재 컴퓨터에서 실행되고 있는 프로그램들의 목록을 보여주는 프로그램이다.`\n",
    "- 그런데 이는 보기가 조금 어려워 보인다.\n",
    "\n",
    "여기서 htop이라는 것은 top이라는 프로그램을 더 개선한, 좀더 graphical하게 무언가를 보여주는 프로그램이라고 보면 될듯하다.\n",
    "\n",
    "이 프로그램은 리눅스라는 command line에서 실행되는 프로그램임에도 불구하고, 상당히 graphical한 출력을 보여준다.\n"
   ]
  },
  {
   "cell_type": "markdown",
   "id": "ec97968f-f805-43fd-a682-22ad6b19d63d",
   "metadata": {},
   "source": []
  },
  {
   "cell_type": "markdown",
   "id": "55b790a6-25e7-4e63-88fd-be02a713db57",
   "metadata": {},
   "source": []
  },
  {
   "cell_type": "markdown",
   "id": "33b51b5d-112b-42db-9c68-4e42caf6ff98",
   "metadata": {},
   "source": [
    "설치되어 있는 프로그램을 삭제하는 방법부터:\n",
    "\n",
    "https://youtu.be/mPkFqp2m8BM?list=PLuHgQVnccGMBT57a9dvEtd6OuWpugF9SH&t=486"
   ]
  },
  {
   "cell_type": "markdown",
   "id": "2353172e-f868-4ba8-852a-713f83e3b250",
   "metadata": {},
   "source": []
  },
  {
   "cell_type": "markdown",
   "id": "d9e2509f-93ee-4cb1-89b9-a51ba2872ee9",
   "metadata": {},
   "source": []
  },
  {
   "cell_type": "markdown",
   "id": "de256a03-2fc9-4e5c-971a-76230b9606aa",
   "metadata": {},
   "source": []
  },
  {
   "cell_type": "markdown",
   "id": "00607e68-20a3-4525-85f9-ca11c3bbb7c2",
   "metadata": {},
   "source": []
  },
  {
   "cell_type": "markdown",
   "id": "724860e5-cd70-456b-be4a-abcd2f36b599",
   "metadata": {},
   "source": []
  },
  {
   "cell_type": "markdown",
   "id": "a1b40c7c-d122-4e40-8e54-c8180cfa68b0",
   "metadata": {},
   "source": []
  },
  {
   "cell_type": "markdown",
   "id": "1ab8278d-df0c-4006-ba90-ce35d27ce4ca",
   "metadata": {},
   "source": []
  },
  {
   "cell_type": "markdown",
   "id": "829e01f4-cd4e-4969-bed9-5414ef84e73c",
   "metadata": {},
   "source": []
  },
  {
   "cell_type": "markdown",
   "id": "aadde897-3069-457f-a408-083dd9c4b8ff",
   "metadata": {},
   "source": []
  }
 ],
 "metadata": {
  "kernelspec": {
   "display_name": "Python 3 (ipykernel)",
   "language": "python",
   "name": "python3"
  },
  "language_info": {
   "codemirror_mode": {
    "name": "ipython",
    "version": 3
   },
   "file_extension": ".py",
   "mimetype": "text/x-python",
   "name": "python",
   "nbconvert_exporter": "python",
   "pygments_lexer": "ipython3",
   "version": "3.9.12"
  }
 },
 "nbformat": 4,
 "nbformat_minor": 5
}
