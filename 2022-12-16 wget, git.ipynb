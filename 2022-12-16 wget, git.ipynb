{
 "cells": [
  {
   "cell_type": "markdown",
   "id": "6eeb6c02-ada6-421e-b98a-6f6a30fe0752",
   "metadata": {
    "tags": []
   },
   "source": [
    "# Linux 공부 (On going)"
   ]
  },
  {
   "cell_type": "markdown",
   "id": "822cd4c7-df8b-4d65-9140-ba8b50a5e520",
   "metadata": {},
   "source": [
    "# 12월 26일"
   ]
  },
  {
   "cell_type": "markdown",
   "id": "84e4273a-1988-48f7-91e8-1ba76699751d",
   "metadata": {},
   "source": [
    "공부 자료 출처: https://www.youtube.com/watch?v=v8WE_MbCjOU&list=PLuHgQVnccGMBT57a9dvEtd6OuWpugF9SH&index=12"
   ]
  },
  {
   "cell_type": "markdown",
   "id": "2353172e-f868-4ba8-852a-713f83e3b250",
   "metadata": {},
   "source": [
    "#### `-` wget (파일 다운로드)"
   ]
  },
  {
   "cell_type": "markdown",
   "id": "d9e2509f-93ee-4cb1-89b9-a51ba2872ee9",
   "metadata": {},
   "source": [
    "여기선 파일 다운로드 방식을 알아본다.  \n",
    "보통, 우리가 파일을 다운로드 받으면 GUI방식으로 클릭을 해서 다운로드를 받는다.  \n",
    "\n",
    "그런데, 명령어 시스템에서는 먼저 다운로드를 받으려면 프로그램이 있어야하는데, 많은 프로그램들이 있지만, 많이 사용되는 것이 wget이라는 프로그램이다.\n",
    "- 여기서 프로그램이란 이전 공부정리에서 보았던 ls, mkdir같은 프로그램들을 말한다.\n",
    "\n",
    "**wget을 가지고 URL을 통해서 파일을 다운로드 받을 수 있다.**  \n",
    "wget 사용 예시: `wget 파일URL`\n",
    "\n",
    "이런식으로 작동한다.\n",
    "\n",
    "다운로드 받아진 파일의 이름은 download가 되어있을텐데, 이는 저번에 보았던 mv 명령어로 파일이름을 바꿀 수 있다.\n",
    "\n",
    "\n",
    "그런데 이렇게 다운로드 받고 파일 이름을 일일이 수정하는 작업은 번거롭기 때문에 파일 이름을 지정해서 다운로드 받는 경우가 있는지 확인해본다.\n",
    "- wget --help로 wget의 설명서 열기.  \n",
    "\n",
    "보면 -O가 해당 역할을 한다고 한다.\n",
    "\n",
    "그래서 파일 이름을 지정하면서 다시 다운로드 받는 명령어 예시를 보면 `wget -O paris.jpeg 파일URL` 이 된다."
   ]
  },
  {
   "cell_type": "markdown",
   "id": "e79b3eb2-1635-4345-9347-c93146f9a048",
   "metadata": {},
   "source": []
  },
  {
   "cell_type": "markdown",
   "id": "1fd0234a-9cce-4ab2-a2d3-be84051172cc",
   "metadata": {},
   "source": [
    "#### `-` Git"
   ]
  },
  {
   "cell_type": "markdown",
   "id": "de256a03-2fc9-4e5c-971a-76230b9606aa",
   "metadata": {},
   "source": [
    "Git이라는 것은 `버전 관리 시스템`이라는 카테고리에 속하는 제품 중의 하나이다.  \n",
    "\n",
    "`-` 버전 관리 시스템이란?  \n",
    "우리가 프로그램을 만들 때, 한 번에 만드는게 아니라 몇일, 몇주, 몇달에 거쳐서 코드 수정도 하면서, 여러가지 개선들이 있을 것이다.  \n",
    "이 때 이런 개선들 또는 변경 사항들을 기록해서 1. `과거의 어떤 상태를 분석하거나` 2. `과거의 상태로 현재 상태를 돌리거나`, 3.`프로그래머들이 만드는 소스 코드를 백업하거나`, 4. 아니면 `여러 사람의 프로그래머들이 협업을 통해서 프로그램을 만들거나` 와 같은 작업에 있어서 중요한 것들을 담당하는 중추와 같은 역할을 하는 프로그램이 Git 이다.\n",
    "\n",
    "Git은 리눅스에서만 사용할 수 있는 것이 아니라, Mac이나 Windows에서도 쓸 수 있는 것이기 때문에, 어떤 특정 운영체제에 종속된 프로그램은 아니다.\n",
    "\n",
    "강사님께서 Git을 설명하시는 이유는 리눅스상에서 git이라는 명령어 빈도수가 많기 때문이라 하셨다."
   ]
  },
  {
   "cell_type": "markdown",
   "id": "3a78006f-01e6-4434-9614-4058a84a0002",
   "metadata": {},
   "source": [
    "`-` Github:  \n",
    "Github라는 것은 Git이라는 도구를 통해서 만든 프로그램, 소스 코드를 온라인 상에 업로드 시켜서, 협업을 할 수 있도록 해주는 서비스이다.  \n",
    "이 서비스, 오픈소스 프로젝트는 무료이기 때문에, 이 서비스를 통해서 많은 오픈소스 코드들이 만들어지고 있다 하신다.  \n",
    "\n",
    "**굉장히 중요한 서비스**\n",
    "\n",
    "여기서는 Git이라고 하는 프로그램과, Github라고 하는 프로그램을 통해서, 우리가 오픈소스 프로젝트를 사용하는데에 어떻게 사용할 수 있는지에 대한 사용법을 지금 소개해주신다고 하심."
   ]
  },
  {
   "cell_type": "markdown",
   "id": "370ebfeb-9c7d-4e17-8d55-29329fe307e5",
   "metadata": {},
   "source": [
    "`-` 오픈소스 사례: 페이스북에서 만든 오픈소스인 React라고 하는 오픈소스의 홈페이지  \n",
    "오픈소스 홈페이지들은 거의 열에 아홉, Github이라고 작혀있는 부분이 있다.  \n",
    "\n",
    "여기 React라는 오픈소스 홈페이지에서 Github라고 적힌 부분을 클릭하면 github 사이트의 facebook/react라고 되어있는 곳으로 가는데,  \n",
    "이것은 페이스북에서 만든 React라는 오픈소스의 소스 코드가 온라인상에 저장되어 있는 페이지라는 뜻이다. `이런걸 저장소라고 한다.`\n",
    "- 온라인 상에서 프로그램의 소스 코드를  볼 수도 있고, 다운로드도 받을 수 있는 곳이다.\n",
    "\n",
    "\n",
    "`-` 깃허브의 react라는 프로젝트 파일을 자신의 Linux 컴퓨터로 다운로드 받는 방법:  \n",
    "총 두 가지가 있다.\n",
    "1. 그냥 다운로드 받는 것\n",
    "2. Git이라고 하는 버전 관리 프로그램을 통해서 다운로드 받는 것.\n",
    "\n",
    "여기서는 Git이라는 프로그램을 통해서 Github에 있는 소스코드를 다운로드 받는 방법을 본다.\n",
    "\n",
    "깃허브의 오픈소스의 프로젝트 페이지에 가면 Clone or download라는 링크가 있다.\n",
    "- `현재 기준으로는 Clone or download가 아니라 Code라는 버튼이 이에 대응되는 것 같다.`\n",
    "\n",
    "이 링크를 누르면 URL이 나오는데, 이 URL은 이 오픈소스 프로젝트의 소스코드에 대한 주소이다.\n",
    "- `현재 react를 기준으로 https://github.com/facebook/react.git 주소이다.`\n",
    "\n",
    "https://github.com/facebook/react 주소는 이 온라인 웹페이지로 들어오는 주소이고,  \n",
    "https://github.com/facebook/react.git 주소는 이 오픈소스 프로젝트의 소스코드의 주소라는 점이 차이이다.\n",
    "\n",
    "이제 다시 리눅스 터미널로 돌아와서, 여기서 `Git`이라는 프로그램을 통해서 `Github`라고 하는 온라인 서비스에 있는 오픈소스 프로젝트를 다운 받아서 (설치라기 보단) 다운로드 받는 방법을 볼 것이다.\n",
    "\n",
    "`-` 다운로드 받는 과정:  \n",
    "먼저 Git이라는 프로그램이 리눅스에 있어야 되는데, `git`을 입력하고 엔터를 눌러서 usage ~~~~ 이런 화면이 뜬다면,(`이미지 추가`) 이미 git이 설치되어있다. 라는 뜻이다.  \n",
    "만약 설치가 안되어 있다면, 우리의 리눅스에 맞는 package manager를 사용을 해서 git을 다운받기.\n",
    "- 강사님같은 경우는 Ubuntu를 쓰고있기 때문에, apt-get을 쓰면 된다 하심, 강사님 기준으로 git을 다운받는 명령어는 `sudo apt-get install git`이다.\n",
    "\n",
    "그런데 git이 워낙에 성공하여서 기본적으로 git을 가지고있는 경우도 많이 있을 것이다.\n",
    "\n",
    "이제 git이 준비가 되고, 방금 react라는 오픈소스 프로젝트를 우리의 컴퓨터로 다운로드 하는 방법은 `git clone https://github.com/facebook/react.git seact_src`를 입력하면 된다. 여기서 `git clone https://github.com/facebook/react.git seact_src`의 의미는 react_src라는 디렉토리에 해당 주소가 가르키는 오픈소스 프로젝트가 다운로드 되게 된다.\n",
    "- clone(복제)으로 이렇게 복제를 하면 오픈소스 프로젝트의 파일뿐만 아니라 **저 프로젝트가 지금까지 버전을 거듭해 오면서 변쳔되어 왔던, 모든 변화들을 다 우리의 컴퓨터에 Clone(복제)하는 것이다.**\n",
    "\n",
    "이렇게 하고나면 git으로 다운받을 때 지정했던 디렉토리인 react_src라는 디렉토리가 생성되어있다.  \n",
    "이 디렉토리로 들어가서 ls -l을 해보면, React라고 하는 오픈소스 프로젝트의 모든 소스코드가 여기에 다운로드 되어 있는 상태이다. **(이를 Cloning(클로닝)이 되어있는 상태라고 한다.**\n",
    "\n",
    "여기까지, 이미 누군가 만든 오픈소스 프로젝트를 사용하는 방법으로서 Git을 사용하고 싶다면, `git clone`기능을 알고있으면 좋다.\n",
    "\n"
   ]
  },
  {
   "cell_type": "markdown",
   "id": "a351217c-3397-4e88-840c-f038cbb3bf12",
   "metadata": {},
   "source": []
  }
 ],
 "metadata": {
  "kernelspec": {
   "display_name": "Python 3 (ipykernel)",
   "language": "python",
   "name": "python3"
  },
  "language_info": {
   "codemirror_mode": {
    "name": "ipython",
    "version": 3
   },
   "file_extension": ".py",
   "mimetype": "text/x-python",
   "name": "python",
   "nbconvert_exporter": "python",
   "pygments_lexer": "ipython3",
   "version": "3.9.12"
  }
 },
 "nbformat": 4,
 "nbformat_minor": 5
}
