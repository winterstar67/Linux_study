{
 "cells": [
  {
   "cell_type": "markdown",
   "id": "6eeb6c02-ada6-421e-b98a-6f6a30fe0752",
   "metadata": {
    "tags": []
   },
   "source": [
    "# Linux 공부 (IO Redirection)"
   ]
  },
  {
   "cell_type": "markdown",
   "id": "822cd4c7-df8b-4d65-9140-ba8b50a5e520",
   "metadata": {},
   "source": [
    "# 12월 29일"
   ]
  },
  {
   "cell_type": "markdown",
   "id": "84e4273a-1988-48f7-91e8-1ba76699751d",
   "metadata": {},
   "source": [
    "공부 자료 출처: https://www.youtube.com/watch?v=kpcEoSiMgnU&list=PLuHgQVnccGMBT57a9dvEtd6OuWpugF9SH&index=16"
   ]
  },
  {
   "cell_type": "markdown",
   "id": "eb59a642-3dae-4a32-8abf-2b4da9d63ee2",
   "metadata": {
    "tags": []
   },
   "source": [
    "#### `-` Output\n",
    "여기서, I는 `Input`, O는 `Output`, Redirection은 `방향을 바꾼다.` 라는 의미를 가지고 있다."
   ]
  },
  {
   "cell_type": "markdown",
   "id": "73ee4ec9-368f-412e-8bc9-1692e826c5eb",
   "metadata": {},
   "source": [
    "우리가 파일의 목록을 보고싶다면 ls -al을 하면 된다.  \n",
    "이 결과를 모니터로 출력하는거 말고, `파일에 저장`하려면 어떻게 해야할까?   \n",
    "다음의 명령어를 입력하면 된다.:\n",
    "명령어 예시: `ls -l > result.txt` -> 이것은 ls -l의 결과를 result.txt라는 텍스트에다가 저장하고싶다. 라는 의미이다.\n",
    "- 이렇게 하면, 화면에 출력되지 않고 result.txt라는 파일에 저장된다.\n",
    "\n",
    "이 결과를 확인하려면 `cat result.txt`를 하면 된다.\n",
    "\n",
    "여기까지 봤을 때, 보통 Output이 화면으로 출력되는것이 기본인데, 이 `출력되는 방향`을 다른 곳으로 돌려서, 파일에 저장시키는 것이다.  \n",
    "이것을 **Redirection이라고 한다.**"
   ]
  },
  {
   "cell_type": "markdown",
   "id": "06e91162-ad83-44fd-9bf9-14ffbdc7ca4c",
   "metadata": {},
   "source": [
    "ls나 mkdir같은 것들은 process라고 부르는데, 이러한 프로세스들은 입력과 출력을 가지고있다.  \n",
    "입력의 예: command line arguments (`ls -al`이라고 할 때, -al이 ls라는 프로그램에 입력으로 들어오는 입력값중 하나이다. 이렇게 실행될 때 전달되는 입력값을 command line arguments라고 한다.)\n",
    "\n",
    "이렇게 입력을 하고 process를 실행하면, 실행된 결과를 화면에 출력해준다.\n",
    "- 예: ls -al을 하면 이 process의 결과로 파일 목록을 화면에 출력해준다. (이것을 **standard output**이라고 한다. standard output은 결과가 모니터로 출력이 되는 것) \n",
    "\n",
    "그런데, 모니터에 출력되는 방향을 바꿔서(**Redirection**이라고 함) 다른 곳으로 출력되게 할 수 있다.\n",
    "- 대표적인 것이 방금 우리가 보았던 file이다. `ls -l > result.txt` -> 이건 ls -l 결과를 >(redirection)시키고 파일 이름을 적는 형태로 명령어가 진행됨.\n",
    "    - 이렇게하면 ls-l의 결과가 result.txt라는 파일에 출력되는 것이다.\n",
    "    \n",
    "`-`유닉스 계열의 시스템은 어떤 프로그램이 실행되면(이걸 프로세스라 한다.). 그 프로게서가 출력하는 결과는 크게 두가지로 구분한다.\n",
    "1. standard output -> 우리가 방금 본것이다.\n",
    "2. 프로그램이 내부적으로 어떤 오류가 있을 때, 그 오류는 중요한 정보이기 때문에, 별도의 출력으로 처리한다. (standard error)\n",
    "\n",
    "\n",
    "standar error의 예:\n",
    "result2.txt라는 파일이 없을 때, `rm result2.txt`라는 명령어를 실행시키면? -> error를 출력한다.  \n",
    "그러면, 아까 본 것처럼 redirection을 사용해서 `rm result2.txt > result.txt`를 입력하면 어떻게 될까?  \n",
    "아까처럼 file로 저장되는, 즉, redirection이 되지 않고, 모니터에 출력된다. 즉, 모니터로 출력이 향하게 된다.\n",
    "\n",
    "우리가 사용한 `>`는 standard output을 redirection한거지 standard error를 redirection한 것이 아니다.\n",
    "\n",
    "그러면 standard error를 redirection하려면 어떻게할까?\n",
    "`rm result2.txt 2> error.log` 이렇게 하면, 화면에 출력되지 않고 error.log에 저장되게 한다.\n",
    "- 여기서 2는 stasndard error라고 하는 출력에 대한 redirection이라는 의미를 가진다.\n",
    "- 위의 그냥 `>`만 적은 것은, 원래 1이 있고 이게 standard output을 의미하는데 생략되어있는 것이다. `>`앞에 숫자가 없으면 1로 보면 될 것이다.\n",
    "\n",
    "`-` 응용:  \n",
    "`rm result2.txt 1> result.txt 2> error.log`라고 하면, 만약 standard error라면 error.log에 출력되고, 아니면 result.txt에 출력된다는 의미이다.\n",
    "\n"
   ]
  },
  {
   "cell_type": "markdown",
   "id": "5c5ab6fb-058c-425c-9a39-d2101951f54e",
   "metadata": {},
   "source": []
  },
  {
   "cell_type": "markdown",
   "id": "d9e2509f-93ee-4cb1-89b9-a51ba2872ee9",
   "metadata": {},
   "source": [
    "왜 우리는 CLI방식을 배우고 있는걸까?\n",
    "\n",
    "1.  \n",
    "명령어 방식(CLI)와 그래픽 방식(GUI)중에서 어떤 것이 **컴퓨팅 자원(ex: 메모리, CPU)**을 더 많이 사용할까?\n",
    "- **GUI가 훨씬 많이 쓴다.**\n",
    "- CLI가 훨씬 적은 컴퓨터 파워를 사용하면서 컴퓨터를 동작시킬 수 있다.\n",
    "\n",
    "그래서, 일반인들이 사용하는 컴퓨터 시스템은 쉽게 사용할 수 있게 하기 위해서 graphical한 아이콘, 마우스 같은 것으로 컴퓨터를 제어하기에, 많은 에너지들이 그러한 `사용성을 높이는데에 사용된다.`\n",
    "\n",
    "하지만, 서버 컴퓨터라던가 데이터를 분석하는 시스템이라던가, 이러한 것들은 보통 일반인들이 쓰는 컴퓨터가 아니기 때문에 graphical하지 않은, 정말 명령어로 컴퓨터를 재어하는 기능만 가지고 있으면 컴퓨터의 용량도 적게 차지하고, 컴퓨터의 CPU도 적게쓰고, 메모리도 덜 차지하는 효과를 내기 때문에, 일반 소비자가 아닌, 컴퓨터를 통해 heavy한 일을 하는 사람들, 혹은 그런 시스템에서는 CLI를 사용하게 된다.\n",
    "\n",
    "\n",
    "2. \n",
    "GUI 방식은 쉽다는 장점이 있지만, 상당히 많은 노동이 필요하다.\n",
    "- 예: 우리가 GUI 시스템에서, 어떤 일을 한다고 하자. 이 때 주어져 있는 프로그램을 실행시킨다 하면, 어떤 일을 하고 우리는 뭘하나? 그냥 그 일이 끝날 때 까지 기다린다. 그리고 그 일이 끝나면 다시 다음 일을 하고 기다리고.... 이런 식으로 진행되기 때문에, 다루기는 쉬워도 이걸 이용해서 어떤 순차적으로 진행되는 일을 자동화하는 것이 상당히 힘들다는 것이다?\n",
    "\n",
    "반면에 CLI의 경우는 마치 우리가 친구에게 집에서 설거지를 한 다음에, 이불정리 하고, 그리고 보일러를 낮춘다음에, 그리고 집을 나갈 때 나한테 전화해 라고 부탁하면 친구는 그 일을 끝낸 다음에 우리에게 전화를 할 것이다. 그러면 중간에 우리는 친구가 그 일을 잘 하고있는지 안하는지 확인할 필요 없이 그냥 결과만 받으면 된다.  \n",
    "바로 이러한 장점을 컴퓨터상에서 누릴 수 있는 것이 CLI가 갖는 중요한 효과가 아닐까 싶다고 하신다.\n"
   ]
  },
  {
   "cell_type": "markdown",
   "id": "b6883448-0a8e-4678-a2da-62fbbb67b4ec",
   "metadata": {},
   "source": [
    "`-` 이제 CLI를 사용했을 때, 얻을 수 있는 강력한 효과에 대한 실질적인 얘기를 해보자.\n",
    "- 사실 이 주제는 쉘, 쉘 스크립팅 이렇게 불리는 여러 뿌리가 깊은 이야기들과 관련이 있지만, 그런거 없이,  '아!, 이런 게 명령어를 이용했을 때의 강력한 효과구나!' 라고 공명하는 것이 목표라 하심.\n",
    "\n",
    "어떤 작업을 예를들어 하나 해보자.  \n",
    "1. 디렉토리를 만들자. (디렉토리 이름은 why).  \n",
    "2. 그 디렉토리로 들어가야 한다.\n",
    "\n",
    "우리는 이 작업을 위해 mkdir why라고 입력하고 cd why라고 입력할 것이다.  \n",
    "이제 이 상태에서 why라는 디렉토리를 rm -rf why로 지우고 위의 작업을 다시 진행할 것인데, 이번에는 만들고 디렉토리 이동하는걸 따로따로 두 번 입력하지 않고 한번에 실행시켜본다.\n",
    "1. mkdir why;cd why -> 이는 why라는 디렉토리를 만들고 why라는 디렉토리로 이동하라는 의미이다.\n",
    "    - 여기서 ;의 의미는 ;이전의 것을 실행하고 ;이후의 것을 실행하라 라는 의미로 보면 될듯 하다. 두 명령어를 구분하기 위한 것.\n",
    "\n",
    "이렇게 하고 입력을 하면, 위의 작업이 한번에 진행됨을 알 수 있다.\n",
    "\n",
    "\n",
    "이렇게 한 번에 두 개의 명령어를 진행함을 확인하였다.  \n",
    "이렇게 **한 번에 두 개를 할수 있다.** 라는 것은 중요한데, 왜냐하면 한 번에 두 개가 된다면 3개, 4개, ... n개 까지 가능할 수 있기 때문이다.  \n",
    "이렇게 하면 우리가 할 일의 리스트만 주고, 중간에 컴퓨터를 지켜보는 것보단 마지막 결과를 받아내면 된다는 것.  \n",
    "**이것이 CLI 기반으로 컴퓨터를 제어할 때의 굉장히 중요한 요소이다.**"
   ]
  },
  {
   "cell_type": "markdown",
   "id": "7671b2f1-a28b-4bc1-b1d6-119fe64b92fa",
   "metadata": {},
   "source": []
  },
  {
   "cell_type": "markdown",
   "id": "997e2ae7-0a78-4e8f-ad73-4e676e9cce5c",
   "metadata": {},
   "source": [
    "`-` Pipeline (이 부분은 좀 더 공부 필요)\n",
    "\n",
    "파이프라인(Pipeline)이란 무엇인가?  \n",
    "파이프라는 `무언가를 어느 한 곳에서 다른 곳으로 전송한다.`라는 특성을 비유적으로 표현해서, 이 파이프라는 기능을 가지고 있다.  \n",
    "하나의 명령의 실행결과를 다른 명령의 입력으로 준다. 라고 할 수 있음.  \n",
    "`이런 기능을 통해서 굉장히 강력한 효과를 만들어 낼 수가 있다.`  \n",
    "\n",
    "`-` 파이프라인 설명을 위한 예시 명령어 -> grep: 어떠한 정보에서 우리가 필요한 정보가 포함되어 있는 줄을,행을 찾는 그런 명령이라 생각하면 된다.\n",
    "\n",
    "먼저 위키피디아에 Linux를 검색한다. 그리고 문서에 있는 내용을 카피한다.  \n",
    "그리고 다시 리눅스 터미널로 돌아가서 `nano linux.txt`를 입력해서 파일을 열고, 방금 위키에서 복사한 내용들을 붙여넣기 한다.  \n",
    "그리고 저장하고 해당 편집기에서 빠져나온다.\n",
    "- 저장이 잘 되어있는지 확인하는 명령어로 `cat`이 있다. 그래서 `cat linux.txt`를 하면 cat이라는 것이 linux.txt의 내용들을 출력해준다.\n",
    "\n",
    "이렇게 저장한 상태에서, 다시 linux.txt가 있는 디렉토리로 나온다.  \n",
    "여기서 linux.txt라는 파일 안에서 linux라는 텍스트가 포함되어 있는 행만을 출력하고 싶다면? 이 때 사용하는 명령어가 `grep`이다.\n",
    "- 이 상황으로 명령어 사용 예시를 보면 `grep linux linux.txt`이다.\n",
    "\n",
    "`grep linux linux.txt`하고 엔터를 누르면, linux가 포함된 행을 찾아준다.(디테일이 조금 문제가 있는 결과라고 하신다.)\n",
    "\n",
    "이제, 우리가 ls(파일 목록 보여주기)에서 sorting을 해서 목록을 가져오고 싶다고 하자.  \n",
    "그래서 ls --help를 해서 보려는데, 이게 내용이 상당히 많다.  \n",
    "여기서 만약 sort만 포함된 행들만 가져오면 하고자하는 일이 줄어들 것이다.\n",
    "\n",
    "ls --help 에서 나오는 결과 중에서 sort라고 하는 텍스만을 검색하고 싶다.  \n",
    "`ls --help | grep sort`로, 여기서 |는 파이프라인을 나타낸다.\n",
    "\n",
    "해당 명령어를 엔터를 누르고 하고 출력 결과를 보자.  \n",
    "이렇게 하면 일단 ls --help가 실행되면서 ls의 설명서가 출력된다.  \n",
    "출력된 결과를 파이프로 연결해서, grep sort라고 하는, grep이라고 하는 명령에 입력으로 주는 것이다.  \n",
    "그러면 grep는 그 입력에서 sort라는 텍스트가 포함되어 있는, 텍스트만을 검색해서 그것을 화면에 표시해준다.  \n",
    "이렇게 나온 결과에서 우리가 다시 file이라고 하는 것을 다시 grep하고 싶으면, 여기서 다시 파이프로 입력할 수 있다.  \n",
    "- `ls --help | grep sort | grep file`\n",
    "- 이렇게 하면 sort가 포함되면서 file이라는 텍스트가 포함되어 있는 행만을 화면에 표시할 수 있다는 것이다.\n",
    "\n",
    "이것을 `파이프`라고 한다.\n",
    "\n",
    "\n",
    "`-` 우리 컴퓨터에서 현재 실행되고 있는 프로그램들의 리스트는 `ps (process)`라는 명령어로 확인 가능하다.  \n",
    "`ps aux`라고 하면 현재 실행되고 있는 많은 프로그램들이 출력된다.  \n",
    "이런 경우에, **우리가 원하는 프로그램만(예: apache)을 확인하고 싶다면?**\n",
    "- `ps aux | grep apache`라고 하고 실행시키면 apache라는 텍스트가 포함된 것만 화면에 가져온다."
   ]
  },
  {
   "cell_type": "markdown",
   "id": "e79b3eb2-1635-4345-9347-c93146f9a048",
   "metadata": {},
   "source": []
  },
  {
   "cell_type": "markdown",
   "id": "a351217c-3397-4e88-840c-f038cbb3bf12",
   "metadata": {},
   "source": []
  },
  {
   "cell_type": "markdown",
   "id": "c46cce94-0c6d-46af-8a6b-c539b354ff43",
   "metadata": {},
   "source": []
  },
  {
   "cell_type": "markdown",
   "id": "a411fbd0-01c1-4aec-8a40-ed5ae0666d41",
   "metadata": {
    "tags": []
   },
   "source": [
    "#### `-` Input\n",
    "위에서 여태까지 프로세스, 프로그램 이런 말들을 혼용해서 쓰고있는데, 이렇게 생각하면 된다.  \n",
    "`프로그램`은 우리의 컴퓨터의 하드디스크나 ssd에 저장되어 있는 그 코드, 이걸 프로그램이라 부르고.  \n",
    "`프로세스`는 이 프로그램이 살아나서 실행되고 있는 상태를 뜻한다.\n",
    "- **하나의 프로그램은 여러 개의 프로세스를 가질 수도 있다.**"
   ]
  },
  {
   "cell_type": "markdown",
   "id": "2ccc6762-bc1f-4749-a768-976b85da33fe",
   "metadata": {},
   "source": [
    "이 프로세스 (Figure 추가 필요)를 다시한번 보면, standard output과 standard error라고 하는, 두 가지 형식의 출력을 가지고 있다.  \n",
    "그리고 한 가지의 입력이 있는데, 이를 standard input이라 한다.  \n",
    "- 즉, 하나의 input과 2개의 oputput이 존재하는 것이다.\n",
    "\n",
    "이번에는 input에 대한 얘기를 할건데, 위의 output처럼 실용적인 느낌은 아니라고 하신다.\n",
    "\n",
    "실습: 현재 디렉토리에 `ls -l`을 입력해서 hello.txt라는 파일이 있다고 해보자.\n",
    "\n",
    "`cat hello.txt`라고 입력하고 출력으로 hello가 나왔다고 하자.  \n",
    "cat이라는 명령어는 두 번재 인자로 파일 명이 들어오면,  그 파일명을 화면에 출력해준다고 하신다.  \n",
    "- 원래 cat의 목적은 여러 개의 정보를 결합해주는 것 정도로 이해하면 될듯 하다.\n",
    "\n",
    "그런데 `cat`이라고 명령어만 입력하면, 프로그램이 안끝나고 대기상태에 들어가게 된다.  \n",
    "여기서 예를들어 hi라고 치면, cat이라는 프로그램은 우리가 입력한 hi라는 텍스트를 출력해줌.  \n",
    "이 상태에서 또 뭔가, 예를들어 linux라고 입력했다고 하면 출력으로 우리가 입력한 linux가 나온다.(standard output으로)  \n",
    "이 cat의 입력대기 상태에서 빠져나오려면 Ctrl + d.\n",
    "\n",
    "다시 보면, cat이라고만 입력하면 사용자가 키보드를 통해서 입력하는 정보를 받는다.\n",
    "\n",
    "프로세스 (Figure)에서 프로세서가 cat이고 사용자가 입력한 정보를 standard input으로 받는 것이다.\n",
    "\n",
    "standard input이 기본적으로 키보드라면 그 input에 방향을 redirection해서 파일안에 포함되어있는 내용을 cat에 입력 값으로 줄 수 있음.\n",
    "- 예시: `cat < hello.txt` 여기서, <는 redirection으로 예시 명령어의 의미는 hello.txt라는 파일에 저장되어있는 내용을 입력으로 받는다는 의미가 된다.\n",
    "\n",
    "그러면, `cat hello.txt`와 `cat < hello.txt`의 차이는 무엇일까?\n",
    "- `cat hello.txt`는 command line arguments로써 들어간거고\n",
    "- `cat <hello.txt`는 인자가 아니라 standard input으로써 들어간거다.\n",
    "\n",
    "`-` 텍스트의 앞부분 일부만 출력하는 기능  \n",
    "linux.txt라는 텍스트 파일에 뭔가가 많이 적혀있다고 하자.  \n",
    "여기서 앞의 일부분만 출력하려고 하면, `head`라는 명령어를 사용해서 `head linux.txt`라고 입력한다.\n",
    "- 이는 앞의 10줄을 출력해준다.\n",
    "- 만약 `head -n1 linux.txt`와 같이 옵션으로 -n을 주고 1을 입력하면 한 줄만 출력해준다.\n",
    "     - 여기서 -n1 linux.txt는 standard input이 아니라 인자를 준것이다.\n",
    "     \n",
    "만약 `head -n1 <linux.txt`라고 한다면 -n1로 옵션을 주고, <linux.txt를 통해 standard input형태로 준것이다.\n",
    "\n",
    "`-` 위의 한줄 출력된 결과를 다시 텍스트에 저장하고 싶다면?  \n",
    "`head -n1 < linux.txt > one.txt`라 하면 linux.txt를 실행한 출력된 결과, standard output을 one.txt라고 하는 텍스트에 저장해라. 라는 의미가 됨. \n"
   ]
  },
  {
   "cell_type": "markdown",
   "id": "af497ba0-7d77-498a-8721-f0ebb330ced5",
   "metadata": {},
   "source": []
  },
  {
   "cell_type": "markdown",
   "id": "348b1fd3-55a0-41fb-b1b9-ffed0498fdcb",
   "metadata": {},
   "source": []
  },
  {
   "cell_type": "markdown",
   "id": "caf4a427-d680-400f-a76d-93c4b401c2fb",
   "metadata": {},
   "source": []
  },
  {
   "cell_type": "markdown",
   "id": "b7aa8b02-1409-479d-b6cd-a82444e3abc8",
   "metadata": {},
   "source": []
  },
  {
   "cell_type": "markdown",
   "id": "c51ed4dd-aed7-4396-8900-dd479bc3a819",
   "metadata": {},
   "source": []
  },
  {
   "cell_type": "markdown",
   "id": "31a41061-2dd9-4f38-ba07-c244f23d291c",
   "metadata": {},
   "source": []
  },
  {
   "cell_type": "markdown",
   "id": "eb002209-ed3f-48c6-8190-e68646db181d",
   "metadata": {},
   "source": []
  },
  {
   "cell_type": "markdown",
   "id": "92e331c0-4865-4990-9890-e19a861b96fe",
   "metadata": {},
   "source": []
  }
 ],
 "metadata": {
  "kernelspec": {
   "display_name": "Python 3 (ipykernel)",
   "language": "python",
   "name": "python3"
  },
  "language_info": {
   "codemirror_mode": {
    "name": "ipython",
    "version": 3
   },
   "file_extension": ".py",
   "mimetype": "text/x-python",
   "name": "python",
   "nbconvert_exporter": "python",
   "pygments_lexer": "ipython3",
   "version": "3.9.12"
  }
 },
 "nbformat": 4,
 "nbformat_minor": 5
}
