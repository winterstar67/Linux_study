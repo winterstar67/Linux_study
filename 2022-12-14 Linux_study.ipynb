{
 "cells": [
  {
   "cell_type": "markdown",
   "id": "6eeb6c02-ada6-421e-b98a-6f6a30fe0752",
   "metadata": {
    "tags": []
   },
   "source": [
    "# Linux 공부 (On going)"
   ]
  },
  {
   "cell_type": "markdown",
   "id": "dc4176a9-5b26-46e3-b367-117f77fbe799",
   "metadata": {},
   "source": [
    "`-` Motivation:"
   ]
  },
  {
   "cell_type": "markdown",
   "id": "8b46ae9c-ba4d-4aa7-8bd6-ea9d8a21961b",
   "metadata": {},
   "source": [
    "학교에서 리눅스를 사용할 일이 많기에 알아두면 여러모로 작업에 편할 것이라 생각하여 하게 되었다."
   ]
  },
  {
   "cell_type": "markdown",
   "id": "e1d176bd-9c21-4c77-b2de-64d7567f5c1d",
   "metadata": {},
   "source": [
    "강의: https://www.youtube.com/watch?v=DsG-JWrFJTc&list=PLuHgQVnccGMBT57a9dvEtd6OuWpugF9SH"
   ]
  },
  {
   "cell_type": "markdown",
   "id": "822cd4c7-df8b-4d65-9140-ba8b50a5e520",
   "metadata": {},
   "source": [
    "# 12월 24일"
   ]
  },
  {
   "cell_type": "markdown",
   "id": "d057edf7-7ed9-46e2-ad8c-e65ef36d810f",
   "metadata": {
    "tags": []
   },
   "source": [
    "# 리눅스의 장점:"
   ]
  },
  {
   "cell_type": "markdown",
   "id": "41296bb7-25e8-41d5-a73f-8926a9e12ac5",
   "metadata": {},
   "source": [
    "리눅스가 여러 기업같은 곳에서 사용되는 이유는 `무료`이기 때문이라고 한다.  \n",
    "보통 서버를 운용하기위해 오라클이나 IBM등의 서버를 선택하면 구매 비용과 매년 메인터넌스 비용으로 지출이 매우 커지지만 리눅스는 `오픈소스`라는 점으로 인해 서버 운용을 위한 지출이 크지 않다고 한다.\n",
    "- 출처: https://kin.naver.com/qna/detail.nhn?d1id=1&dirId=10302&docId=367421438&qb=66as64iF7IqkIOyciOuPhOyasA==&enc=utf8&section=kin.qna&rank=14&search_sort=0&spq=0\n",
    "- 리눅스는 OS관련인데 오라클은 DB관련으로 알고있어서, 비교하는 것이 잘 와닿지가 않았다.. 이 부분은 잘 모르는 파트라 공부가 더 필요할듯 하다.\n",
    "\n",
    "비용 문제 이외의 리눅스 사용이유는 아래 블로그에 잘 정리되어있다.\n",
    "- https://8ugust-dev.tistory.com/2"
   ]
  },
  {
   "cell_type": "markdown",
   "id": "317b6d0f-b2b1-4109-862a-98a1da3e3c4c",
   "metadata": {
    "tags": []
   },
   "source": [
    "# 리눅스 실습"
   ]
  },
  {
   "cell_type": "markdown",
   "id": "7b0e6a5a-ac6d-47f9-8ef3-86c4b173559c",
   "metadata": {},
   "source": [
    "## 리눅스 실행환경"
   ]
  },
  {
   "cell_type": "markdown",
   "id": "33d6e270-a4f1-4f88-b3d2-989af70ca48a",
   "metadata": {},
   "source": [
    "필자는 공부할 때 `생활코딩`이라는 유튜브 채널을 기반으로 공부를 하는데, 여기서는 clound9으로 실습을 한듯 하다. 그런데 이 서비스가 현재 사용가능한지 확실치 않고, 강사분께서 댓글에서 구름ide를 추천해주셔서 이를 사용하기로 했다.\n",
    "- 구름 ide: https://www.goorm.io/dashboard"
   ]
  },
  {
   "cell_type": "markdown",
   "id": "956ebbdd-7934-47c4-b1cb-9ece396ff063",
   "metadata": {},
   "source": [
    "여기서 계정으로 로그인을 하고(구글 계정으로 했는데, 따로 회원가입 과정이 없었다.),\n",
    "- 컨테이너 생성을 blank로 한다. (처음에 따로 튜토리얼이 나온다.)"
   ]
  },
  {
   "cell_type": "markdown",
   "id": "4c2085f9-a664-45ec-aad9-77681fed7269",
   "metadata": {},
   "source": [
    "그리고 나서, 생성된 컨테이너를 실행시키면\n",
    "![main](./1.PNG)"
   ]
  },
  {
   "cell_type": "markdown",
   "id": "b7a5fa88-6154-47ea-9759-68e8f3a6c59d",
   "metadata": {},
   "source": [
    "- 위와 같은 화면이 실행된다."
   ]
  },
  {
   "cell_type": "markdown",
   "id": "a16ca28d-708d-448b-9940-e1bd2396e18c",
   "metadata": {},
   "source": [
    "## 강의 내용 정리 (보통 명령어 위주)"
   ]
  },
  {
   "cell_type": "markdown",
   "id": "649d99c5-8df9-4b0f-8379-bbedee780b27",
   "metadata": {},
   "source": [
    "`1. 디렉토리의 파일들 목록보기`  \n",
    "명령어: ls\n",
    "\n",
    "윈도우에서는 폴더를 더블클릭하여 폴더에 들어가면 파일들을 보여주지만, 리눅스 터미널에선 파일을 바로 보여주진 않는다.  \n",
    "여기서는 더블클릭 대신, ls라는 명령어를 입력해서 파일들을 볼 수 있다.\n",
    "- 윈도우에서 클릭해서 보는 것을 GUI 방식이라 한다.\n",
    "- 이렇게 ls라는 명령어를 통해서 보는 것을 CLI(Command Line Interface)방식이라 한다.\n",
    "\n",
    "그런데 ls 명령어는 ls말고도 ls -l, ls -a 이런식으로 ls뒤에 -를 붙이고 a,나 l을 입력할 수 있는데, 이러한 것들을 `파라미터` 혹은 `옵션`이라고 부른다. \n",
    "- ls: 디렉토리를 포함해서 파일들의 목록을 보여준다.\n",
    "- ls -l: 파일의 리스트를 자세히 보여준다. (파일에 대한 권한, 이 파일의 소유자들, 파일의 용량, 파일을 생성한 시간)\n",
    "    - 만약 파일에 대한 권한에서 맨 앞에 d가 붙어있다면 이는 디렉토리 파일임을 의미한다. d가 안붙어있으면 파일임을 의미한다.\n",
    "- ls -a: \n",
    "\n",
    "`-` 어떤 옵션들이 있는지 확인하려면 ls 혹은 명령어 하고 --help를 입력한다.\n",
    "- 예: ls --help"
   ]
  },
  {
   "cell_type": "markdown",
   "id": "dc3dbde9-808d-4e77-a639-95f27c67516c",
   "metadata": {},
   "source": [
    "`2. 디렉토리 이동`  \n",
    "디렉토리 이동 명령어: cd (change directory의 약자)\n",
    "\n",
    "ls를 하면 현재 디렉토리의 파일들을 보여준다. 만약 다른 디렉토리의 파일을 보고싶다면, 다른 디렉토리로 이동해서 ls명령어를 통해 파일들을 볼 수 있다.  \n",
    "ls 뿐만이 아니라 보통 명령어가 적용된다 하면 해당 디렉토리에서 명령어가 적용된다.\n",
    "\n",
    "cd 명령어의 예시:\n",
    "cd ./ABC: 현재 디렉토리 내의 ABC라는 폴더로 이동하라.  \n",
    "cd ..: 현재 디렉토리의 부모 디렉토리로 이동 (상대경로 방식) \n",
    "\n",
    "\n",
    "앞으로 현재 디렉토리를 A라고 하겠음."
   ]
  },
  {
   "cell_type": "markdown",
   "id": "37e503fa-6ef7-427c-b6f0-fc7fd17500fb",
   "metadata": {},
   "source": [
    "`Tip:` 현재 디렉토리 A에 hello_Linux라는 이름의 폴더가 있다고 하자. 이 폴더로 이동할 때, cd heelo_linux/를 해야되는데, 이 때 hello linux를 다 타이핑하는게 아니라 hel까지만 입력하고 Tab을 누르면 나머지 텍스트가 자동으로 입력된다."
   ]
  },
  {
   "cell_type": "markdown",
   "id": "2485ba0b-da29-4df4-a61e-723e8a6e88ba",
   "metadata": {},
   "source": [
    "`3. 현재 디렉토리 위치`:  \n",
    "현재 디렉토리 확인 명령어: pwd\n",
    "\n",
    "현재 어떤 디렉토리에서 작업하고 있는지 알려준다."
   ]
  },
  {
   "cell_type": "markdown",
   "id": "01cb503f-0356-4b42-bc72-2d0c11a79fb6",
   "metadata": {},
   "source": [
    "`4. 현재 작업하는 디렉토리에 폴더 만들기`:  \n",
    "폴더 생성 명령어: mkdir\n",
    "\n",
    "명령어 작동 방식은 mkdir 폴더이름 과 같이 한다.\n",
    "예를 들어, ABC라는 폴더가 없는데 ABC라는 폴더를 만들고 싶다면 mkdir ABC로 ABC폴더를 만들 수 있다.\n",
    "\n",
    "폴더에 폴더를 만들고 싶은 경우:  \n",
    "현재 디렉토리인 A에서 ABC라는 폴더를 만들고 ABCC라는 폴더를 만들고 싶은데, ls를 하니까 아무것도 없었다. 즉, ABC라는 폴더도 없을 때 mkdir ABC/ABCC를 하면 에러가 난다.  \n",
    "여기서 ABC와 이 안에 ABCC까지 두 폴더 모두 만들려면 mkdir에서 p 옵션을 줘서 mkdir -p ABC/ABCC 이런식으로 줄 수 있다."
   ]
  },
  {
   "cell_type": "markdown",
   "id": "e2eec4d2-3af2-4d2d-aa35-767120cb78ff",
   "metadata": {},
   "source": [
    "`5. 화면에 명령어를 너무 많이 입력해서 화면 깨끗하게 초기화하는 방법`:  \n",
    "명령어 입력 기록들 없애는 명령어: clear"
   ]
  },
  {
   "cell_type": "markdown",
   "id": "4dfe44d9-309a-4d83-bff4-cc3be13e8574",
   "metadata": {},
   "source": [
    "`6. 파일 삭제`:  \n",
    "파일 삭제 명령어: rm  \n",
    "폴더 삭제 명령어: rm -r \n",
    "\n",
    "명령어 사용 예: rm empty_file.txt 라고 하면 empty_file.txt 파일이 삭제된다.\n",
    "- 단, 옵션없는 rm 명령어로 디렉토리를 삭제할 수는 없다. \n",
    "- rm -r의 사용예: rm -r ABC라고 하면 현재 디렉토리의 ABC 폴더 뿐만 아니라 ABC 폴더 내의 디렉토리들도 모두 지운다.\n",
    "    - rm -r은 상대적으로 위험한 명령어\n"
   ]
  },
  {
   "cell_type": "markdown",
   "id": "9e1fb93c-e7d9-4634-962b-6271670f5ea3",
   "metadata": {},
   "source": [
    "`7. 명령어 설명서`  \n",
    "설명서 명령어: man\n",
    "\n",
    "man 명령어 사용 예: man ls (ls 명령어의 설명을 보여줘)\n",
    "\n",
    "--help와 man의 차이:  \n",
    "--help는 따로 전용페이지 들어가서 설명서를 보여주는 것이 아니라 간단하게 보여주지만, man은 자세히 페이지를 따로 들어가서 보여준다.\n",
    "\n",
    "전용 페이지에서는 키모드 위 아래로 움직일 수 있고, 검색한다 하면 /를 누르면 된다 하신다.\n",
    "- 예: sort라는 문서 내에서 sort라는 단어를 찾고싶다면, /누르고 sort 입력\n",
    "- 만약 키보드 위, 아래키로 이동하는게 아니라 검색한 sort를 기반으로, 다음 sort 텍스트로 jump하고싶으면, 알파벳 N키를 누르면 된다.\n",
    "\n",
    "**전용 페이지, 혹은 txt파일같은 팡리 내부에서 나오는 방법**: Q버튼을 누르면 된다."
   ]
  },
  {
   "cell_type": "markdown",
   "id": "6445e25f-1486-487a-9818-dcd79c6d2464",
   "metadata": {},
   "source": [
    "`8. 사용설명서 읽는 방법`"
   ]
  },
  {
   "cell_type": "markdown",
   "id": "01725932-0ad7-46f4-ba87-152e96b2cfe7",
   "metadata": {},
   "source": [
    "mkdir --help를 기준으로 사용설명서 읽는 방법을 보자.\n",
    "\n",
    "root@goorm:~# mkdir --help  \n",
    "**Usage**: mkdir [옵션]... DIRECTORY...  \n",
    "Create the DIRECTORY(ies), if they do not already exist.  \n",
    "\n",
    "Mandatory arguments to long options are mandatory for short options too.  \n",
    "  -m, --mode=MODE   set file mode (as in chmod), not a=rwx - umask  \n",
    "  -p, --parents     no error if existing, make parent directories as needed  \n",
    "  -v, --verbose     print a message for each created directory  \n",
    "  -Z                   set SELinux security context of each created directory  \n",
    "                         to the default type  \n",
    "      --context[=CTX]  like -Z, or if CTX is specified then set the SELinux  \n",
    "                         or SMACK security context to CTX  \n",
    "      --help     이 도움말을 표시하고 끝냅니다  \n",
    "      --version  버전 정보를 출력하고 끝냅니다  \n",
    "\n",
    "GNU coreutils online help: <http://www.gnu.org/software/coreutils/>  \n",
    "Report mkdir translation bugs to <http://translationproject.org/team/>  \n",
    "Full documentation at: <http://www.gnu.org/software/coreutils/mkdir>  \n",
    "or available locally via: info '(coreutils) mkdir invocation"
   ]
  },
  {
   "cell_type": "markdown",
   "id": "5b444c71-bc4e-46a9-9e74-276e19af5362",
   "metadata": {},
   "source": [
    "- 이러한 설명에서 먼저 Usage라는 부분은 거의 대부분이 있는데, 사용법, 용법 이라는 뜻이다.\n",
    "    - Uage에서 말하는 것은 mkdir라는 명령어 다음에 옵션을 추가로 달 수 있고 이 옵션의 목록은 -m, -p, -v, -Z이다. 옵션 설정이 끝난 다음엔 DIRECTORY를 입력해서 mkdir 명령어를 사용할 수 있다.\n",
    "    - --help는 도움말, --version은 버전 확인\n",
    "- 여기서 각각 ls, mkdir, rm 같은 명령어들은 버전이 있는데, 이들은 사실 어떤 프로그램들이다. 이러한 프로그램들이 기본적으로 내장되어있는 것을 명령어처럼 사용하는 것.\n",
    "\n",
    "- 위에서 -p 파트를 보자. 이걸 사용할 때는 mkdir -p dir1/dir2/dir3/... 이렇게 할 수도 있지만, --paraent를 줘서 mkdir --parents dir1/dir2/dir3/...로 mkdir를 사용할 수도 있다. 즉, 기능은 같은데 -는 축약어, --는 full name으로 생각하면 된다."
   ]
  },
  {
   "cell_type": "markdown",
   "id": "8edfbe50-f8c1-4289-8c89-ac5e7a3af208",
   "metadata": {},
   "source": [
    "`9. ls 자세히`:  \n",
    "이 부분은 `1.`에서 본 부분인데, ls가 상대적으로 많이 쓰이는 명령어여서, 사용설명서를 통해 좀 더 자세히 본다.  \n",
    "ls --help 를 통해서 볼 떄 옵션 파트의,\n",
    "- -l는 파일을 listing할 때 세부보기를 한다. 이정도 뜻으로 보면 될듯 하다.\n",
    "- -a는 .으로 이름이 시작하는 파일, 즉, 숨겨진 파일도 보여주는 것이다."
   ]
  },
  {
   "cell_type": "markdown",
   "id": "bd473122-be2e-48a3-bc2b-368f0d0e582c",
   "metadata": {},
   "source": [
    "`-` **TIP**: 리눅스에서 숨긴 파일은 앞에 .이 붙는다."
   ]
  },
  {
   "cell_type": "markdown",
   "id": "aa89cca2-d00b-4f59-9bbe-06951d0cd772",
   "metadata": {},
   "source": [
    "만약 숨긴 파일까지 포함(-a)해서 파일 목록을 자세히(-l) 보고싶다면? ls -al을 하면 된다.\n",
    "- ls -la도 된다고 하시는데 보통은 습관적으로 ls -al을 많이쓴다고 하신다."
   ]
  },
  {
   "cell_type": "markdown",
   "id": "03db7f47-622e-4556-9b3d-8ce30729d275",
   "metadata": {},
   "source": [
    "만약 이 출력결과를 sorting을 해서 출력하고 싶다면, 일단 이 기능을 찾는 과정을 시뮬레이션 해본다.\n",
    "- man ls (ls의 사용설명서)\n",
    "- /sort (sort라는 검색어로 문서 내에서 검색)를 하고 N키를 누르면서 계속 검색한다.\n",
    "- 하면 -S라는 옵션이 보이는데 (물론 다른 파트에도 sort라는 말이 있긴한데, 적당히 원하는 기능이 있는 부분을 찾아야한다...)\n",
    "- 이 -S가 파일 사이즈를 기준(큰 값부터)으로 sorting한다."
   ]
  },
  {
   "cell_type": "markdown",
   "id": "ec4f5bef-660e-477a-b1da-f3755b2f9605",
   "metadata": {},
   "source": [
    "12월 24일: https://www.youtube.com/watch?v=ckX-2c70WUA&list=PLuHgQVnccGMBT57a9dvEtd6OuWpugF9SH&index=5 까지 학습"
   ]
  },
  {
   "cell_type": "markdown",
   "id": "123720bb-6c33-4b34-a003-52b366febca4",
   "metadata": {},
   "source": []
  },
  {
   "cell_type": "markdown",
   "id": "ab9cc05f-5fdc-4697-8831-4465e1e6d6bb",
   "metadata": {},
   "source": []
  },
  {
   "cell_type": "markdown",
   "id": "2be4f33b-1004-4ec1-93ab-5912d54a2738",
   "metadata": {},
   "source": []
  },
  {
   "cell_type": "markdown",
   "id": "4deb7260-6fa1-4089-824c-282ad13aa935",
   "metadata": {},
   "source": []
  },
  {
   "cell_type": "markdown",
   "id": "72fbf900-433b-4d02-9079-bf6e94033fa1",
   "metadata": {},
   "source": []
  },
  {
   "cell_type": "markdown",
   "id": "14cd107c-1fd5-4c17-9a21-c999881a8d10",
   "metadata": {},
   "source": []
  },
  {
   "cell_type": "markdown",
   "id": "7ee867a2-4c81-409f-a5fe-f23564e762dc",
   "metadata": {},
   "source": []
  },
  {
   "cell_type": "markdown",
   "id": "aefd39a9-bd76-4495-a53e-d0db1a235c83",
   "metadata": {},
   "source": []
  },
  {
   "cell_type": "markdown",
   "id": "5eb01f2d-252d-4106-b3a8-96a7a71f28da",
   "metadata": {},
   "source": []
  },
  {
   "cell_type": "markdown",
   "id": "f40cedbd-6a2c-4f2a-9334-8a31ec83d0e4",
   "metadata": {},
   "source": []
  },
  {
   "cell_type": "markdown",
   "id": "ae8a82f6-f2a9-4979-bec8-1fa0129be05b",
   "metadata": {},
   "source": []
  },
  {
   "cell_type": "markdown",
   "id": "2132bc2f-1cfd-4299-8ce1-9a611d3ed02a",
   "metadata": {},
   "source": []
  },
  {
   "cell_type": "markdown",
   "id": "712280f3-8c20-40a1-ac6f-ea250b803d6f",
   "metadata": {},
   "source": [
    "`-` 리눅스에서 파이썬 파일 실행"
   ]
  },
  {
   "cell_type": "markdown",
   "id": "62836e33-7a6b-409b-830b-7c19aaadb0bd",
   "metadata": {},
   "source": [
    "디렉토리 이동 명령어가 cd인 것처럼, 파이썬 파일을 실행시킬 때는 python 명령어를 입력해서 실행시킨다.  \n",
    "아래 Figure와 같이 "
   ]
  },
  {
   "cell_type": "markdown",
   "id": "36e722c7-b9e2-4920-b669-07ae30a4a418",
   "metadata": {},
   "source": []
  },
  {
   "cell_type": "markdown",
   "id": "82d6aa7f-c663-4c60-9ea2-b5543150820c",
   "metadata": {},
   "source": []
  },
  {
   "cell_type": "markdown",
   "id": "495b62d8-e9f1-4beb-91e9-43157e1e3f1e",
   "metadata": {},
   "source": [
    "필자의 경우는 데이터 처리 py파일을 따로 만들고 json 처리 py파일을 따로 만들듯"
   ]
  },
  {
   "cell_type": "markdown",
   "id": "582168a9-ab06-43bc-8052-49dfdae92ae1",
   "metadata": {},
   "source": [
    "아나콘다 설치, htop, 마운트."
   ]
  },
  {
   "cell_type": "markdown",
   "id": "eb660596-01a8-49e6-a1c3-731a5721514b",
   "metadata": {},
   "source": []
  },
  {
   "cell_type": "markdown",
   "id": "c438a70a-6bb8-49e7-9b0c-67e5b6fa85d8",
   "metadata": {},
   "source": []
  },
  {
   "cell_type": "markdown",
   "id": "487e51ea-f010-4996-87df-674d398f4fc1",
   "metadata": {},
   "source": []
  },
  {
   "cell_type": "markdown",
   "id": "fdac410d-b1b2-48f1-9332-248c117d2902",
   "metadata": {},
   "source": []
  },
  {
   "cell_type": "markdown",
   "id": "3113e027-ceeb-4e26-bcb5-d35a0cd6af48",
   "metadata": {},
   "source": []
  },
  {
   "cell_type": "markdown",
   "id": "30eefd12-1725-4f97-9c70-567b3f517ddd",
   "metadata": {},
   "source": []
  },
  {
   "cell_type": "markdown",
   "id": "9adcd829-f0d4-42c4-bdd5-c35d7e7661ca",
   "metadata": {},
   "source": []
  },
  {
   "cell_type": "markdown",
   "id": "a7dda72f-a887-4d10-a232-a01e9a4bc9d7",
   "metadata": {},
   "source": []
  },
  {
   "cell_type": "markdown",
   "id": "5868a6a2-8d84-49b2-adf2-8a07422e7d4e",
   "metadata": {},
   "source": []
  },
  {
   "cell_type": "markdown",
   "id": "ba5a14ba-8176-4fe0-a3f2-3f67433fa576",
   "metadata": {},
   "source": []
  },
  {
   "cell_type": "markdown",
   "id": "96f43da9-75be-4216-9920-294c82fee8bb",
   "metadata": {},
   "source": []
  },
  {
   "cell_type": "markdown",
   "id": "b8c8771e-3be8-4c51-b810-d4f6ccee81c3",
   "metadata": {},
   "source": []
  },
  {
   "cell_type": "markdown",
   "id": "422228c4-c0aa-473b-b926-2e556e004409",
   "metadata": {},
   "source": []
  },
  {
   "cell_type": "markdown",
   "id": "f3d758ca-8343-4266-90fb-2aea0c1c696b",
   "metadata": {},
   "source": []
  },
  {
   "cell_type": "markdown",
   "id": "c01f2b17-cf77-4e99-98bd-9486645f8360",
   "metadata": {},
   "source": []
  },
  {
   "cell_type": "markdown",
   "id": "806b96c8-217b-455d-a1d1-1fc56c866a06",
   "metadata": {},
   "source": []
  },
  {
   "cell_type": "markdown",
   "id": "9aec740b-e37c-4b1c-ae27-72395e15ae77",
   "metadata": {},
   "source": []
  },
  {
   "cell_type": "markdown",
   "id": "3664a76b-5d94-4eac-a2d2-c5e30db050fa",
   "metadata": {},
   "source": []
  },
  {
   "cell_type": "markdown",
   "id": "c36202e8-3a79-47e3-b1b7-b2734f974390",
   "metadata": {},
   "source": []
  },
  {
   "cell_type": "markdown",
   "id": "cd71cc65-881d-48ba-9a2c-3966bb559819",
   "metadata": {},
   "source": []
  },
  {
   "cell_type": "markdown",
   "id": "a5be3412-bec7-46c8-b17b-468d819bc2e3",
   "metadata": {},
   "source": []
  },
  {
   "cell_type": "markdown",
   "id": "33b51b5d-112b-42db-9c68-4e42caf6ff98",
   "metadata": {},
   "source": []
  },
  {
   "cell_type": "markdown",
   "id": "2353172e-f868-4ba8-852a-713f83e3b250",
   "metadata": {},
   "source": []
  },
  {
   "cell_type": "markdown",
   "id": "d9e2509f-93ee-4cb1-89b9-a51ba2872ee9",
   "metadata": {},
   "source": []
  },
  {
   "cell_type": "markdown",
   "id": "de256a03-2fc9-4e5c-971a-76230b9606aa",
   "metadata": {},
   "source": []
  },
  {
   "cell_type": "markdown",
   "id": "00607e68-20a3-4525-85f9-ca11c3bbb7c2",
   "metadata": {},
   "source": []
  },
  {
   "cell_type": "markdown",
   "id": "724860e5-cd70-456b-be4a-abcd2f36b599",
   "metadata": {},
   "source": []
  },
  {
   "cell_type": "markdown",
   "id": "a1b40c7c-d122-4e40-8e54-c8180cfa68b0",
   "metadata": {},
   "source": []
  },
  {
   "cell_type": "markdown",
   "id": "1ab8278d-df0c-4006-ba90-ce35d27ce4ca",
   "metadata": {},
   "source": []
  },
  {
   "cell_type": "markdown",
   "id": "829e01f4-cd4e-4969-bed9-5414ef84e73c",
   "metadata": {},
   "source": []
  },
  {
   "cell_type": "markdown",
   "id": "aadde897-3069-457f-a408-083dd9c4b8ff",
   "metadata": {},
   "source": []
  }
 ],
 "metadata": {
  "kernelspec": {
   "display_name": "Python 3 (ipykernel)",
   "language": "python",
   "name": "python3"
  },
  "language_info": {
   "codemirror_mode": {
    "name": "ipython",
    "version": 3
   },
   "file_extension": ".py",
   "mimetype": "text/x-python",
   "name": "python",
   "nbconvert_exporter": "python",
   "pygments_lexer": "ipython3",
   "version": "3.9.12"
  }
 },
 "nbformat": 4,
 "nbformat_minor": 5
}
