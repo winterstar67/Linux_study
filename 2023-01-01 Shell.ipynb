{
 "cells": [
  {
   "cell_type": "markdown",
   "id": "6eeb6c02-ada6-421e-b98a-6f6a30fe0752",
   "metadata": {
    "tags": []
   },
   "source": [
    "# Linux 공부 (Shell)"
   ]
  },
  {
   "cell_type": "markdown",
   "id": "822cd4c7-df8b-4d65-9140-ba8b50a5e520",
   "metadata": {},
   "source": [
    "# 1월 01일"
   ]
  },
  {
   "cell_type": "markdown",
   "id": "84e4273a-1988-48f7-91e8-1ba76699751d",
   "metadata": {},
   "source": [
    "공부 자료 출처: https://www.youtube.com/watch?v=HYQ65yUlJDg&list=PLuHgQVnccGMBT57a9dvEtd6OuWpugF9SH&index=19"
   ]
  },
  {
   "cell_type": "markdown",
   "id": "eb59a642-3dae-4a32-8abf-2b4da9d63ee2",
   "metadata": {
    "tags": []
   },
   "source": [
    "#### `-` Shell"
   ]
  },
  {
   "cell_type": "markdown",
   "id": "73ee4ec9-368f-412e-8bc9-1692e826c5eb",
   "metadata": {},
   "source": [
    "이번 시간에는 SHell이라는 주제를 알아본다.  \n",
    "여기서 Shell과 같이 알아두면 좋을만한 주제가 Kernel이다.\n",
    "- Kernel은 알맹이, 핵심, 코어 이런 의미이고\n",
    "- Shell은 껍데기, 주변 이러한 의미이다.\n",
    "\n",
    "kernel과 Shell를 이미지로 먼저 본다.\n",
    "\n",
    "맨 중심에 hardware가 있고 그 바깥으로 kernel이 하드웨어를 감싸고있다.\n",
    "- 커널이라는 프로그램은 hardware라는 물리적인 기계를 직접적으로 제어하는 운영체제에서 가장 중심이 되는 코어가 커널이다.\n",
    "\n",
    "커널 바깥쪽에는 Shell이라고 하는 것이 껍데기처럼 커널을 감싼다.\n",
    "- 쉘은 사용자(우리)가 리눅스에서 ls -al하고 엔터를 하면 현재 디렉토리의 파일들의 목록을 운영체제가 확인하고, 그 결과를 우리에게 출력해줌. \n",
    "- 아니면 ls;pwd;를 하면 현재 디렉토리 파일 목록을 보여주고 현재 디렉토리의 위치를 알려준다\n",
    "\n",
    "이렇게 우리가 위처럼 입력한 명령이 Shell을 대상으로 해서, shell에 우리의 명령을 입력해준다. 그러면 쉘은 우리가 입력한 그 명령을 해석해서 커널이 이해할 수 있는 방식으로 커널에게 전달해줌.  \n",
    "\n",
    "그러면, 커널이라는 프로그램은 하드웨어를 제어해서 어떤 처리를 수행하도록, 명령하고 하드웨어(기계)는 어떤 기계가 동작하면서, 그 처리 결과를 커널에게 알려주면, 커널이 쉘에게 알려주는 것을 통해서 사용자들은 실행된 결과를 화면에서 볼 수 있게된다.\n",
    "\n",
    "쉘이라는 것은 우리가 직접 커널을 제어하기에는 어렵고 제어할 수 없기 때문에, 사람이 이해하기 쉬운형태의 명령어를 입력하면 그 명령어를 쉘에 해당되는 프로그램들이 해석해서 커널에게 전달해주는 것이다."
   ]
  },
  {
   "cell_type": "markdown",
   "id": "5c66ec48-962a-4f21-9cb3-47e062ae8275",
   "metadata": {},
   "source": []
  },
  {
   "cell_type": "markdown",
   "id": "ae1a751e-2236-473d-bf73-c022f0ed054b",
   "metadata": {},
   "source": []
  }
 ],
 "metadata": {
  "kernelspec": {
   "display_name": "Python 3 (ipykernel)",
   "language": "python",
   "name": "python3"
  },
  "language_info": {
   "codemirror_mode": {
    "name": "ipython",
    "version": 3
   },
   "file_extension": ".py",
   "mimetype": "text/x-python",
   "name": "python",
   "nbconvert_exporter": "python",
   "pygments_lexer": "ipython3",
   "version": "3.9.12"
  }
 },
 "nbformat": 4,
 "nbformat_minor": 5
}
