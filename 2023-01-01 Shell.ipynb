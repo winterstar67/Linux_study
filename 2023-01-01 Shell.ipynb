{
 "cells": [
  {
   "cell_type": "markdown",
   "id": "6eeb6c02-ada6-421e-b98a-6f6a30fe0752",
   "metadata": {
    "tags": []
   },
   "source": [
    "# Linux 공부 (Shell)"
   ]
  },
  {
   "cell_type": "markdown",
   "id": "822cd4c7-df8b-4d65-9140-ba8b50a5e520",
   "metadata": {},
   "source": [
    "# 1월 01일"
   ]
  },
  {
   "cell_type": "markdown",
   "id": "84e4273a-1988-48f7-91e8-1ba76699751d",
   "metadata": {},
   "source": [
    "공부 자료 출처: https://www.youtube.com/watch?v=HYQ65yUlJDg&list=PLuHgQVnccGMBT57a9dvEtd6OuWpugF9SH&index=19"
   ]
  },
  {
   "cell_type": "markdown",
   "id": "eb59a642-3dae-4a32-8abf-2b4da9d63ee2",
   "metadata": {
    "tags": []
   },
   "source": [
    "#### `-` Shell"
   ]
  },
  {
   "cell_type": "markdown",
   "id": "73ee4ec9-368f-412e-8bc9-1692e826c5eb",
   "metadata": {},
   "source": [
    "이번 시간에는 **Shell**이라는 주제를 알아본다.  \n",
    "여기서 **Shell**과 같이 알아두면 좋을만한 주제가 **Kernel**이다.\n",
    "- Kernel은 알맹이, 핵심, 코어 이런 의미이고\n",
    "- Shell은 껍데기, 주변 이러한 의미이다.\n",
    "\n",
    "kernel과 Shell를 이미지로 먼저 본다.\n",
    "\n",
    "맨 중심에 hardware가 있고 그 바깥으로 kernel이 하드웨어를 감싸고있다.\n",
    "- 커널이라는 프로그램은 hardware라는 물리적인 기계를 직접적으로 제어하는 운영체제에서 가장 중심이 되는 코어가 커널이다.\n",
    "\n",
    "커널 바깥쪽에는 Shell이라고 하는 것이 껍데기처럼 커널을 감싼다.\n",
    "- 쉘은 사용자(우리)가 리눅스에서 ls -al하고 엔터를 하면 현재 디렉토리의 파일들의 목록을 운영체제가 확인하고, 그 결과를 우리에게 출력해줌. \n",
    "- 아니면 ls;pwd;를 하면 현재 디렉토리 파일 목록을 보여주고 현재 디렉토리의 위치를 알려준다\n",
    "\n",
    "이렇게 우리가 위처럼 입력한 명령이 Shell을 대상으로 해서, Shell에 우리의 명령을 입력해준다. 그러면 쉘은 우리가 입력한 그 명령을 해석해서 커널이 이해할 수 있는 방식으로 커널에게 전달해줌.  \n",
    "\n",
    "그러면, 커널이라는 프로그램은 하드웨어를 제어해서 어떤 처리를 수행하도록, 명령하고 하드웨어(기계)는 어떤 기계가 동작하면서, 그 처리 결과를 커널에게 알려주면, 커널이 쉘에게 알려주는 것을 통해서 사용자들은 실행된 결과를 화면에서 볼 수 있게된다.\n",
    "\n",
    "쉘이라는 것은 우리가 직접 커널을 제어하기에는 어렵고 제어할 수 없기 때문에, 사람이 이해하기 쉬운형태의 명령어를 입력하면 그 명령어를 쉘에 해당되는 프로그램들이 해석해서 커널에게 전달해주는 것이다."
   ]
  },
  {
   "cell_type": "markdown",
   "id": "3f0b83f9-cb9d-482e-bfdd-9bf9293c1a0e",
   "metadata": {},
   "source": []
  },
  {
   "cell_type": "markdown",
   "id": "58b10e19-5fe3-45b2-bd31-942ec0d83a25",
   "metadata": {},
   "source": [
    "리눅스에 이렇게 입력해보자.  \n",
    "`echo ''hello''`\n",
    "- `echo`라는 것은 복잡한게 아닌, 뒤에 들어오는 문자를 화면에 출력해주는 것이다.\n",
    "\n",
    "`echo $0` 이렇게 해서 결과로 `bash`라는 것이 나오면, 이것은 우리가 현재 `Shell`이라는 카테고리에 속하는 구체적인 제품 중에 하나인 `bash`라는 프로그램을 쓰고있는 것이다.  \n",
    "\n",
    "그러면, 이번엔 다른 shell을 써보자.  \n",
    "zsh라는 것을 사용해볼 것이다.  \n",
    "처음에 그냥 `zsh`라고만 입력하면 이 명령어를 찾을 수 없다. 라고 나온다.\n",
    "- 즉, 프로그램 설치가 안되어 있다.\n",
    "\n",
    "저번에 배웠던 설치 명령어를 사용해서 `sudo apt-get install zsh`라고 입력하면 프로그램 설치가 된다.\n",
    "\n",
    "이제 `zsh`를 입력하고 난 다음에 echo $0를 해서 방금과 같은 bash가 아니라 zsh이 나오게 되면, 이는 우리가 현재 zshell 이라고 하는 shell이 동작하는 상태이다.\n",
    "- 즉, 우리가 사용하는 명령들은 지금 zshell을 통해서 커널로 전달되고 있고, 커널에서 만들어진 결과는 zshell을 통해서 우리의 화면에 표시되고 있다.\n",
    "    - 입력의 처리: zshell -> 커널 -> 하드웨어\n",
    "    - 출력의 처리: 하드웨어 -> 커널 -> zshell\n",
    "    \n",
    "    \n",
    "`-` Bash와 Zshell의 차이:  \n",
    "일단 bash와 zshell은 역사적으로 부모가 같아서 상당히 유사하다.  \n",
    "하지만 zshell의 경우는 bash가 가지고 있지 않은, 추가적인 기능들을 가져서 좀 더 편리하다는 평가를 받고있다.  \n",
    "\n",
    "차이를 비교해보자:  \n",
    "- bash: \n",
    "    - `cd `를 입력하고 tab키를 두 번 누르면 숨겨진 디렉토리까지 보여준다.\n",
    "    - `pwd`를 해서 나온 절대경로를 그대로 cd에 적으면,(예: `cd /home/ubuntu`) 디렉토리 이동이 된다.\n",
    " \n",
    "- zsh: \n",
    "    - `cd `를 입력하고 tab키를 한 번만 눌러도 디렉토리 명령(목록)이 나오는데, 숨겨진 디렉토리는 나오지 않음  \n",
    "    - `cd /h/u만 하고 tab키를 누르면 알아서 `cd /home/ubuntu`를 자동완성 해준다.\n",
    "    - 지금 우리가 ubuntu라는 디렉토리에 있고 ubuntu에는 why와 dir1이라는 디렉토리가 있다고 하자. 여기서 우리가 먼저 why라는 디렉토리에 들어갔다고 할 때, 이 상태에서 dir1으로 가는 방법은, zsh에선 그냥 `cd why dir1`이라고 하면 dir1으로 이동이 된다.\n",
    "\n",
    "이렇게 두 shell은 명령어가 차이가 있는 상태이다. zsh이 좀 더 편함.  이렇게 shell마다 편의성들이 다름.\n",
    "\n",
    "이렇게 shell과 kernel을 분리함으로써, 사용자들은 자신에게 더 맞는 shell을 설치해서 더 자신에게 적절한 환경을 구성할 수 있음.\n",
    "\n",
    "\n",
    "정리하자면, 우리는 standard input, 즉 키보드를 통해서 입력을 하면, 그것을 shell이 받아서, kernel을 통해서 여러가지 작업을 처리하고, 그 결과를 shell이 받아서 standard output이나 error를 출력하는 것을 통해서 사용자와 상호작용하는, 그러한 소프트웨어를 Shell이라고 한다."
   ]
  },
  {
   "cell_type": "markdown",
   "id": "5c66ec48-962a-4f21-9cb3-47e062ae8275",
   "metadata": {},
   "source": []
  },
  {
   "cell_type": "markdown",
   "id": "ae1a751e-2236-473d-bf73-c022f0ed054b",
   "metadata": {},
   "source": []
  }
 ],
 "metadata": {
  "kernelspec": {
   "display_name": "Python 3 (ipykernel)",
   "language": "python",
   "name": "python3"
  },
  "language_info": {
   "codemirror_mode": {
    "name": "ipython",
    "version": 3
   },
   "file_extension": ".py",
   "mimetype": "text/x-python",
   "name": "python",
   "nbconvert_exporter": "python",
   "pygments_lexer": "ipython3",
   "version": "3.9.12"
  }
 },
 "nbformat": 4,
 "nbformat_minor": 5
}
